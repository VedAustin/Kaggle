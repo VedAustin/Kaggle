{
 "cells": [
  {
   "cell_type": "code",
   "execution_count": 1,
   "metadata": {
    "collapsed": false
   },
   "outputs": [],
   "source": [
    "import pandas as pd\n",
    "import numpy as np\n",
    "import matplotlib.pyplot as plt\n",
    "%matplotlib inline\n",
    "#import random\n",
    "from sklearn.neighbors import KernelDensity,BallTree\n",
    "from sklearn.preprocessing import MinMaxScaler\n",
    "import cPickle as pkl\n",
    "#from sklearn.cross_validation import train_test_split"
   ]
  },
  {
   "cell_type": "code",
   "execution_count": 2,
   "metadata": {
    "collapsed": true
   },
   "outputs": [],
   "source": [
    "train = pd.read_hdf('cross_validation.h5','train') \n",
    "test = pd.read_hdf('cross_validation.h5','test')\n",
    "group1_2 = pd.read_hdf('storage_group.h5','group1_2')\n",
    "group3 = pd.read_hdf('storage_group.h5','group3')\n",
    "group_all = train.groupby('place_id')\n",
    "#del train"
   ]
  },
  {
   "cell_type": "code",
   "execution_count": 10,
   "metadata": {
    "collapsed": true
   },
   "outputs": [],
   "source": [
    "pop_last_months = train_2.groupby('place_id').agg({'place_id':'count'})\n",
    "pop_last_months.columns = ['checkins_90']\n",
    "pop_last_months['popularity_90'] = pop_last_months.checkins_90/90."
   ]
  },
  {
   "cell_type": "code",
   "execution_count": null,
   "metadata": {
    "collapsed": true
   },
   "outputs": [],
   "source": [
    "group1 = train.groupby('place_id').agg({'place_id':'count','day':{'last_check_in':'max','first_check_in':'min'},\n",
    "                                       'x':{'x_med':'median'},'y':{'y_med':'median'}})\n",
    "\n",
    "group1.columns = group1.columns.droplevel(0)\n",
    "\n",
    "group1['popularity'] = group1['count']*1./(group1.last_check_in+1 - group1.first_check_in)\n",
    "group1.head()\n",
    "\n",
    "group1['duration'] = (group1.last_check_in+1 - group1.first_check_in)\n",
    "\n",
    "#group1.reset_index(inplace=1)"
   ]
  },
  {
   "cell_type": "code",
   "execution_count": null,
   "metadata": {
    "collapsed": true
   },
   "outputs": [],
   "source": [
    "group1_2 = group1.merge(pop_last_months,how='left',left_index=1,right_index=1)\n",
    "group1_2.fillna(value=-1,inplace=1,axis=1)"
   ]
  },
  {
   "cell_type": "code",
   "execution_count": null,
   "metadata": {
    "collapsed": true
   },
   "outputs": [],
   "source": [
    "scale_features = ['count','last_check_in','first_check_in','duration','checkins_90']\n",
    "group1_2[scale_features] = MinMaxScaler(feature_range=(0.01,1.01)).fit_transform(group1_2[scale_features])"
   ]
  },
  {
   "cell_type": "code",
   "execution_count": null,
   "metadata": {
    "collapsed": true
   },
   "outputs": [],
   "source": [
    "ttl_cols = scale_features + ['popularity','popularity_90']\n",
    "group1_2['ttl_col'] = group1_2[ttl_cols].product(axis=1)\n",
    "#del group1"
   ]
  },
  {
   "cell_type": "code",
   "execution_count": 22,
   "metadata": {
    "collapsed": false
   },
   "outputs": [
    {
     "data": {
      "text/plain": [
       "checkins_90      15.000000\n",
       "popularity_90     0.166667\n",
       "Name: 13789, dtype: float64"
      ]
     },
     "execution_count": 22,
     "metadata": {},
     "output_type": "execute_result"
    }
   ],
   "source": [
    "pop_last_months.ix[13789]"
   ]
  },
  {
   "cell_type": "raw",
   "metadata": {
    "collapsed": false,
    "scrolled": true
   },
   "source": [
    "group1_2 = group1_2.reset_index()"
   ]
  },
  {
   "cell_type": "code",
   "execution_count": 5,
   "metadata": {
    "collapsed": false
   },
   "outputs": [
    {
     "data": {
      "text/html": [
       "<div>\n",
       "<table border=\"1\" class=\"dataframe\">\n",
       "  <thead>\n",
       "    <tr style=\"text-align: right;\">\n",
       "      <th></th>\n",
       "      <th>place_id</th>\n",
       "      <th>y_med</th>\n",
       "      <th>x_med</th>\n",
       "      <th>count</th>\n",
       "      <th>last_check_in</th>\n",
       "      <th>first_check_in</th>\n",
       "      <th>popularity</th>\n",
       "      <th>duration</th>\n",
       "      <th>checkins_90</th>\n",
       "      <th>popularity_90</th>\n",
       "      <th>ttl_col</th>\n",
       "    </tr>\n",
       "  </thead>\n",
       "  <tbody>\n",
       "    <tr>\n",
       "      <th>0</th>\n",
       "      <td>0</td>\n",
       "      <td>5.54945</td>\n",
       "      <td>2.6915</td>\n",
       "      <td>0.050584</td>\n",
       "      <td>0.972</td>\n",
       "      <td>0.032</td>\n",
       "      <td>0.161359</td>\n",
       "      <td>0.950</td>\n",
       "      <td>0.013652</td>\n",
       "      <td>0.044444</td>\n",
       "      <td>1.463432e-07</td>\n",
       "    </tr>\n",
       "    <tr>\n",
       "      <th>1</th>\n",
       "      <td>1</td>\n",
       "      <td>4.34700</td>\n",
       "      <td>7.1079</td>\n",
       "      <td>0.058701</td>\n",
       "      <td>0.986</td>\n",
       "      <td>0.036</td>\n",
       "      <td>0.191176</td>\n",
       "      <td>0.960</td>\n",
       "      <td>0.015844</td>\n",
       "      <td>0.077778</td>\n",
       "      <td>4.712425e-07</td>\n",
       "    </tr>\n",
       "    <tr>\n",
       "      <th>2</th>\n",
       "      <td>2</td>\n",
       "      <td>5.56990</td>\n",
       "      <td>0.9824</td>\n",
       "      <td>0.293550</td>\n",
       "      <td>1.010</td>\n",
       "      <td>0.026</td>\n",
       "      <td>1.064909</td>\n",
       "      <td>0.994</td>\n",
       "      <td>0.078663</td>\n",
       "      <td>1.033333</td>\n",
       "      <td>6.632658e-04</td>\n",
       "    </tr>\n",
       "    <tr>\n",
       "      <th>3</th>\n",
       "      <td>3</td>\n",
       "      <td>5.83405</td>\n",
       "      <td>2.8068</td>\n",
       "      <td>0.473745</td>\n",
       "      <td>1.010</td>\n",
       "      <td>0.014</td>\n",
       "      <td>1.719439</td>\n",
       "      <td>1.006</td>\n",
       "      <td>0.128335</td>\n",
       "      <td>1.788889</td>\n",
       "      <td>2.660145e-03</td>\n",
       "    </tr>\n",
       "    <tr>\n",
       "      <th>4</th>\n",
       "      <td>4</td>\n",
       "      <td>7.55050</td>\n",
       "      <td>3.9737</td>\n",
       "      <td>0.028398</td>\n",
       "      <td>1.006</td>\n",
       "      <td>0.162</td>\n",
       "      <td>0.082742</td>\n",
       "      <td>0.854</td>\n",
       "      <td>0.022418</td>\n",
       "      <td>0.177778</td>\n",
       "      <td>1.303351e-06</td>\n",
       "    </tr>\n",
       "  </tbody>\n",
       "</table>\n",
       "</div>"
      ],
      "text/plain": [
       "   place_id    y_med   x_med     count  last_check_in  first_check_in  \\\n",
       "0         0  5.54945  2.6915  0.050584          0.972           0.032   \n",
       "1         1  4.34700  7.1079  0.058701          0.986           0.036   \n",
       "2         2  5.56990  0.9824  0.293550          1.010           0.026   \n",
       "3         3  5.83405  2.8068  0.473745          1.010           0.014   \n",
       "4         4  7.55050  3.9737  0.028398          1.006           0.162   \n",
       "\n",
       "   popularity  duration  checkins_90  popularity_90       ttl_col  \n",
       "0    0.161359     0.950     0.013652       0.044444  1.463432e-07  \n",
       "1    0.191176     0.960     0.015844       0.077778  4.712425e-07  \n",
       "2    1.064909     0.994     0.078663       1.033333  6.632658e-04  \n",
       "3    1.719439     1.006     0.128335       1.788889  2.660145e-03  \n",
       "4    0.082742     0.854     0.022418       0.177778  1.303351e-06  "
      ]
     },
     "execution_count": 5,
     "metadata": {},
     "output_type": "execute_result"
    }
   ],
   "source": [
    "group1_2.head()"
   ]
  },
  {
   "cell_type": "code",
   "execution_count": 80,
   "metadata": {
    "collapsed": false
   },
   "outputs": [
    {
     "data": {
      "text/html": [
       "<div>\n",
       "<table border=\"1\" class=\"dataframe\">\n",
       "  <thead>\n",
       "    <tr style=\"text-align: right;\">\n",
       "      <th></th>\n",
       "      <th>place_id</th>\n",
       "      <th>y_med</th>\n",
       "      <th>x_med</th>\n",
       "      <th>count</th>\n",
       "      <th>last_check_in</th>\n",
       "      <th>first_check_in</th>\n",
       "      <th>popularity</th>\n",
       "      <th>duration</th>\n",
       "      <th>checkins_90</th>\n",
       "      <th>popularity_90</th>\n",
       "      <th>ttl_col</th>\n",
       "    </tr>\n",
       "  </thead>\n",
       "  <tbody>\n",
       "    <tr>\n",
       "      <th>13647</th>\n",
       "      <td>13789</td>\n",
       "      <td>3.2179</td>\n",
       "      <td>3.2036</td>\n",
       "      <td>0.047879</td>\n",
       "      <td>1.008</td>\n",
       "      <td>0.044</td>\n",
       "      <td>0.146998</td>\n",
       "      <td>0.974</td>\n",
       "      <td>0.021687</td>\n",
       "      <td>0.166667</td>\n",
       "      <td>0.000001</td>\n",
       "    </tr>\n",
       "  </tbody>\n",
       "</table>\n",
       "</div>"
      ],
      "text/plain": [
       "       place_id   y_med   x_med     count  last_check_in  first_check_in  \\\n",
       "13647     13789  3.2179  3.2036  0.047879          1.008           0.044   \n",
       "\n",
       "       popularity  duration  checkins_90  popularity_90   ttl_col  \n",
       "13647    0.146998     0.974     0.021687       0.166667  0.000001  "
      ]
     },
     "execution_count": 80,
     "metadata": {},
     "output_type": "execute_result"
    }
   ],
   "source": [
    "group1_2[group1_2.place_id==13789]"
   ]
  },
  {
   "cell_type": "raw",
   "metadata": {},
   "source": [
    "Getting all the neighbors within a radius - determined by the median of the standard deviation"
   ]
  },
  {
   "cell_type": "code",
   "execution_count": 3,
   "metadata": {
    "collapsed": true
   },
   "outputs": [],
   "source": [
    "ball_tree = BallTree(group1_2[['x_med','y_med']],metric = 'manhattan')"
   ]
  },
  {
   "cell_type": "code",
   "execution_count": null,
   "metadata": {
    "collapsed": true
   },
   "outputs": [],
   "source": [
    "group1_2.to_hdf('storage_group.h5','group1_2')"
   ]
  },
  {
   "cell_type": "code",
   "execution_count": 12,
   "metadata": {
    "collapsed": true
   },
   "outputs": [],
   "source": [
    "def computeKDE(place_ids):\n",
    "#def computeKDE():\n",
    "    #place_ids = group_all.groups.keys()\n",
    "    kde_day_hr = {}\n",
    "    kde_default = KernelDensity(kernel='gaussian',bandwidth=0.25)\n",
    "    kde_params = kde_default.get_params()\n",
    "    for place_id in place_ids:\n",
    "        kde_temp = {}\n",
    "        data = group_all.get_group(place_id)\n",
    "        data_1 = data.groupby(['7day'])['24hr']\n",
    "        data_1.columns = ['24hr_count']\n",
    "        for day in data_1.groups.keys():\n",
    "            data_2 = data_1.get_group(day)\n",
    "            kde_temp[day] = KernelDensity(**kde_params)\n",
    "            kde_temp[day] = kde_temp[day].fit(data_2.reshape(-1,1))\n",
    "        kde_day_hr[place_id] = kde_temp\n",
    "        \n",
    "    return kde_day_hr\n",
    "    "
   ]
  },
  {
   "cell_type": "raw",
   "metadata": {
    "collapsed": true
   },
   "source": [
    "kde_hr,kde_day,kde_week,kde_month = computeKDE()"
   ]
  },
  {
   "cell_type": "code",
   "execution_count": null,
   "metadata": {
    "collapsed": false
   },
   "outputs": [],
   "source": [
    "kde_day_hr = computeKDE()"
   ]
  },
  {
   "cell_type": "code",
   "execution_count": 48,
   "metadata": {
    "collapsed": true
   },
   "outputs": [],
   "source": [
    "data_test = group_all.get_group(13789)"
   ]
  },
  {
   "cell_type": "code",
   "execution_count": 49,
   "metadata": {
    "collapsed": true
   },
   "outputs": [],
   "source": [
    "data_1 = data_test.groupby(['7day'])['24hr']\n",
    "data_1.columns = ['24hr_count']"
   ]
  },
  {
   "cell_type": "code",
   "execution_count": 50,
   "metadata": {
    "collapsed": false
   },
   "outputs": [
    {
     "data": {
      "text/plain": [
       "[0.0, 1.0, 2.0, 3.0, 4.0, 5.0, 6.0]"
      ]
     },
     "execution_count": 50,
     "metadata": {},
     "output_type": "execute_result"
    }
   ],
   "source": [
    "data_1.groups.keys()"
   ]
  },
  {
   "cell_type": "code",
   "execution_count": 15,
   "metadata": {
    "collapsed": false
   },
   "outputs": [],
   "source": [
    "data_2 = data_1.get_group(0)"
   ]
  },
  {
   "cell_type": "code",
   "execution_count": 31,
   "metadata": {
    "collapsed": false
   },
   "outputs": [],
   "source": [
    "kde_day_hr = {}\n",
    "kde_temp = {}\n",
    "for day in data_1.groups.keys():\n",
    "    data_2 = data_1.get_group(day)\n",
    "    kde_default = KernelDensity(kernel='gaussian',bandwidth=0.25)\n",
    "    kde_temp[day] = kde_default.fit(data_2.reshape(-1,1))\n",
    "kde_day_hr[13789] = kde_temp "
   ]
  },
  {
   "cell_type": "code",
   "execution_count": 33,
   "metadata": {
    "collapsed": false
   },
   "outputs": [],
   "source": [
    "another_kde = kde_day_hr[13789]"
   ]
  },
  {
   "cell_type": "code",
   "execution_count": 40,
   "metadata": {
    "collapsed": false
   },
   "outputs": [
    {
     "data": {
      "text/plain": [
       "0.00010706418061190825"
      ]
     },
     "execution_count": 40,
     "metadata": {},
     "output_type": "execute_result"
    }
   ],
   "source": [
    "np.exp(another_kde[6.0].score(22))"
   ]
  },
  {
   "cell_type": "code",
   "execution_count": 17,
   "metadata": {
    "collapsed": true
   },
   "outputs": [],
   "source": [
    "kde_default = KernelDensity(kernel='gaussian',bandwidth=0.25)"
   ]
  },
  {
   "cell_type": "code",
   "execution_count": 20,
   "metadata": {
    "collapsed": false
   },
   "outputs": [
    {
     "data": {
      "text/plain": [
       "KernelDensity(algorithm='auto', atol=0, bandwidth=0.25, breadth_first=True,\n",
       "       kernel='gaussian', leaf_size=40, metric='euclidean',\n",
       "       metric_params=None, rtol=0)"
      ]
     },
     "execution_count": 20,
     "metadata": {},
     "output_type": "execute_result"
    }
   ],
   "source": [
    "kde_default.fit(data_2.reshape(-1,1))"
   ]
  },
  {
   "cell_type": "code",
   "execution_count": 25,
   "metadata": {
    "collapsed": false
   },
   "outputs": [
    {
     "data": {
      "text/plain": [
       "array([[  2.],\n",
       "       [ 22.],\n",
       "       [ 20.],\n",
       "       [ 19.],\n",
       "       [  4.],\n",
       "       [ 20.],\n",
       "       [  4.]])"
      ]
     },
     "execution_count": 25,
     "metadata": {},
     "output_type": "execute_result"
    }
   ],
   "source": [
    "data_2.reshape(-1,1)"
   ]
  },
  {
   "cell_type": "code",
   "execution_count": 26,
   "metadata": {
    "collapsed": false
   },
   "outputs": [
    {
     "data": {
      "text/plain": [
       "0.22796701737225303"
      ]
     },
     "execution_count": 26,
     "metadata": {},
     "output_type": "execute_result"
    }
   ],
   "source": [
    "np.exp(kde_default.score(22))"
   ]
  },
  {
   "cell_type": "code",
   "execution_count": 9,
   "metadata": {
    "collapsed": false
   },
   "outputs": [],
   "source": [
    "data_1.reset_index(level=1,inplace=1)"
   ]
  },
  {
   "cell_type": "code",
   "execution_count": 11,
   "metadata": {
    "collapsed": false
   },
   "outputs": [
    {
     "data": {
      "text/html": [
       "<div>\n",
       "<table border=\"1\" class=\"dataframe\">\n",
       "  <thead>\n",
       "    <tr style=\"text-align: right;\">\n",
       "      <th></th>\n",
       "      <th>24hr</th>\n",
       "      <th>24hr_count</th>\n",
       "    </tr>\n",
       "    <tr>\n",
       "      <th>7day</th>\n",
       "      <th></th>\n",
       "      <th></th>\n",
       "    </tr>\n",
       "  </thead>\n",
       "  <tbody>\n",
       "    <tr>\n",
       "      <th>0</th>\n",
       "      <td>2</td>\n",
       "      <td>1</td>\n",
       "    </tr>\n",
       "    <tr>\n",
       "      <th>0</th>\n",
       "      <td>4</td>\n",
       "      <td>2</td>\n",
       "    </tr>\n",
       "    <tr>\n",
       "      <th>0</th>\n",
       "      <td>19</td>\n",
       "      <td>1</td>\n",
       "    </tr>\n",
       "    <tr>\n",
       "      <th>0</th>\n",
       "      <td>20</td>\n",
       "      <td>2</td>\n",
       "    </tr>\n",
       "    <tr>\n",
       "      <th>0</th>\n",
       "      <td>22</td>\n",
       "      <td>1</td>\n",
       "    </tr>\n",
       "  </tbody>\n",
       "</table>\n",
       "</div>"
      ],
      "text/plain": [
       "      24hr  24hr_count\n",
       "7day                  \n",
       "0        2           1\n",
       "0        4           2\n",
       "0       19           1\n",
       "0       20           2\n",
       "0       22           1"
      ]
     },
     "execution_count": 11,
     "metadata": {},
     "output_type": "execute_result"
    }
   ],
   "source": [
    "data_1.ix[0]"
   ]
  },
  {
   "cell_type": "code",
   "execution_count": 5,
   "metadata": {
    "collapsed": false
   },
   "outputs": [],
   "source": [
    "def reducedBT(data_BT_ind,y,y_std):\n",
    "    above = group1_2.y_med.ix[data_BT_ind] <= y + y_std\n",
    "    below = group1_2.y_med.ix[data_BT_ind] >= y - y_std\n",
    "    both = above & below\n",
    "    ind_both = both.index[np.where(both)].values\n",
    "    \n",
    "    return ind_both"
   ]
  },
  {
   "cell_type": "code",
   "execution_count": 6,
   "metadata": {
    "collapsed": true
   },
   "outputs": [],
   "source": [
    "def reducedBTHelper(ind):\n",
    "    acc = int(test.ix[ind].accuracy)\n",
    "    y_std = 2 * group3.ix[acc].y\n",
    "    r = 1 * group3.ix[acc].x\n",
    "    y = test.ix[ind].y\n",
    "    test_BT_ind = ball_tree.query_radius(test[['x','y']].ix[ind].reshape(1,-1),r=r,return_distance=0)\n",
    "    ind_both = reducedBT(test_BT_ind[0],y,y_std)\n",
    "    \n",
    "    return ind_both\n",
    "    #return test_BT_ind,r,y_std,y"
   ]
  },
  {
   "cell_type": "code",
   "execution_count": 58,
   "metadata": {
    "collapsed": true
   },
   "outputs": [],
   "source": [
    "def calculateProbKde(place_ids,kde,val):\n",
    "    prob = np.empty((0,0))\n",
    "    for place_id in place_ids:\n",
    "        kde_place_id = kde[place_id]\n",
    "        prob = np.append(prob,np.exp(kde_place_id.score(val)))\n",
    "    return prob"
   ]
  },
  {
   "cell_type": "code",
   "execution_count": 55,
   "metadata": {
    "collapsed": true
   },
   "outputs": [],
   "source": [
    "def score2(data,place_ids):\n",
    "    scores = pd.DataFrame(columns=['prob_hr','prob_day','prob_week','prob_month'],index=place_ids)\n",
    "    kde_hr_score = calculateProbKde(place_ids,kde_hr,data['24hr'].reshape(-1,1))\n",
    "    kde_day_score = calculateProbKde(place_ids,kde_day,data['7day'].reshape(-1,1))\n",
    "    kde_week_score = calculateProbKde(place_ids,kde_week,data['week'].reshape(-1,1))\n",
    "    kde_month_score = calculateProbKde(place_ids,kde_month,data['month'].reshape(-1,1))\n",
    "    scores['prob_hr'] = kde_hr_score\n",
    "    scores['prob_day'] = kde_day_score\n",
    "    scores['prob_week'] = kde_week_score\n",
    "    scores['prob_month'] = kde_month_score\n",
    "    #scores['ttl'] = scores[['prob_hr','prob_week','prob_month']].sum(axis=1)\n",
    "    #scores['ttl'] = scores.sum(axis=1)\n",
    "    scores['ttl'] = scores.product(axis=1)\n",
    "    \n",
    "    return scores['ttl']"
   ]
  },
  {
   "cell_type": "code",
   "execution_count": 56,
   "metadata": {
    "collapsed": true
   },
   "outputs": [],
   "source": [
    "#def score1(place_ids_ind):\n",
    "def score1(place_ids):\n",
    "    #scores = group1_2['ttl_col'].ix[place_ids_ind]\n",
    "    scores = group1_3['ttl_col'].ix[place_ids]\n",
    "    return scores"
   ]
  },
  {
   "cell_type": "code",
   "execution_count": 36,
   "metadata": {
    "collapsed": true
   },
   "outputs": [],
   "source": [
    "def ensembleScores(score_1,score_2):\n",
    "    combined_scores = pd.concat((score_1,score_2),axis=1,join='inner').sum(axis=1)\n",
    "    #combined_scores = pd.concat((score_1,score_2),axis=1,join='inner').product(axis=1)\n",
    "    combined_scores = combined_scores.sort_values(ascending=0)\n",
    "    #top3 = combined_scores.index[:3]\n",
    "    #top3_string = [' '.join(top3.astype(str))]\n",
    "    top3 = combined_scores.index[:5].values\n",
    "    return top3\n",
    "    #return combined_scores\n",
    "    #return top3_string"
   ]
  },
  {
   "cell_type": "code",
   "execution_count": 170,
   "metadata": {
    "collapsed": false
   },
   "outputs": [],
   "source": [
    "n = 1\n",
    "submission = pd.DataFrame(columns = ['place_id'],index = test.index[:n])\n",
    "\n",
    "for ind in test.index[:n]:\n",
    "    #if ind%10 == 0:\n",
    "    #    print ind,\n",
    "    row = test.ix[ind]\n",
    "    topNN_ind = reducedBTHelper(ind)\n",
    "    place_ids = group1_2.ix[topNN_ind].place_id\n",
    "    score_2 = score2(row,place_ids)\n",
    "    score_2_sort = score_2.sort_values(ascending=0)\n",
    "    #print len(place_ids),\n",
    "    #submission.ix[ind] = [list(score_2_sort.index.values[:25])]\n",
    "    top20 = score_2_sort[:20].index.values\n",
    "    score_1 = score1(top20)\n",
    "    #submisson.iloc[i] = ensembleScores(score_1,score_2,score_3)\n",
    "    #submission.ix[ind] = [list(ensembleScores(score_1,score_2))]\n",
    "    #submission.ix[ind] = [list(score_2.sort_values(ascending=0)[:3].index.values)]\n",
    "    submission.ix[ind] = [list(score_1.sort_values(ascending=0)[:3].index.values)]"
   ]
  },
  {
   "cell_type": "code",
   "execution_count": 83,
   "metadata": {
    "collapsed": true
   },
   "outputs": [],
   "source": [
    "group1_3 = group1_2.copy()\n",
    "group1_3.index = group1_2.place_id"
   ]
  },
  {
   "cell_type": "code",
   "execution_count": 13,
   "metadata": {
    "collapsed": false
   },
   "outputs": [],
   "source": [
    "ind = 16\n",
    "row = test.ix[ind]\n",
    "topNN_ind = reducedBTHelper(ind)\n",
    "place_ids = group1_2.ix[topNN_ind].place_id\n",
    "kde_day_hr = computeKDE(place_ids)\n",
    "#score_2 = score2(row,place_ids)\n",
    "#score_2_sort = score_2.sort_values(ascending=0)"
   ]
  },
  {
   "cell_type": "code",
   "execution_count": 15,
   "metadata": {
    "collapsed": false
   },
   "outputs": [
    {
     "data": {
      "text/plain": [
       "x               3.2494\n",
       "y               3.2096\n",
       "accuracy       75.0000\n",
       "day           540.0000\n",
       "24hr            6.0000\n",
       "7day            1.0000\n",
       "week           25.0000\n",
       "month           6.0000\n",
       "place_id    13789.0000\n",
       "Name: 16, dtype: float64"
      ]
     },
     "execution_count": 15,
     "metadata": {},
     "output_type": "execute_result"
    }
   ],
   "source": [
    "row['24']"
   ]
  },
  {
   "cell_type": "code",
   "execution_count": 23,
   "metadata": {
    "collapsed": false
   },
   "outputs": [],
   "source": [
    "prob = []\n",
    "for place_id in place_ids:\n",
    "    temp_kde = kde_day_hr[place_id]\n",
    "    try:\n",
    "        temp_kde_day = temp_kde[row['7day']]\n",
    "        temp = np.exp(temp_kde_day.score(row['24hr']))\n",
    "    except KeyError:\n",
    "        temp = 0.0\n",
    "    prob.append((place_id,temp))"
   ]
  },
  {
   "cell_type": "code",
   "execution_count": 28,
   "metadata": {
    "collapsed": false
   },
   "outputs": [
    {
     "data": {
      "text/plain": [
       "[(48393, 0.58032834612055095),\n",
       " (57953, 0.4296713266556268),\n",
       " (55592, 0.28170078397214182),\n",
       " (47660, 0.28163780504237013),\n",
       " (78067, 0.13311459035958081),\n",
       " (40167, 0.1139835086861251),\n",
       " (1277, 0.11059985939649003),\n",
       " (68283, 0.10642029616725537),\n",
       " (59923, 0.093884516591604142),\n",
       " (94479, 0.084049833031185184),\n",
       " (60984, 0.029062649565838729),\n",
       " (45797, 0.024591472709555535),\n",
       " (57070, 0.023530171894563051),\n",
       " (101558, 8.2357062009160174e-05),\n",
       " (13789, 5.0522710835368856e-15),\n",
       " (40639, 2.5261355417684381e-15),\n",
       " (41222, 3.9625545889163721e-32),\n",
       " (73485, 1.9078966539227239e-32),\n",
       " (106641, 2.7604741810798533e-88),\n",
       " (50752, 2.2775774787367285e-172),\n",
       " (95140, 0.0)]"
      ]
     },
     "execution_count": 28,
     "metadata": {},
     "output_type": "execute_result"
    }
   ],
   "source": [
    "sorted(prob,key=lambda x:x[1],reverse=1)"
   ]
  },
  {
   "cell_type": "code",
   "execution_count": 65,
   "metadata": {
    "collapsed": false
   },
   "outputs": [
    {
     "name": "stdout",
     "output_type": "stream",
     "text": [
      "0.759585952859 3.13885\n"
     ]
    }
   ],
   "source": [
    "data_test = group_all.get_group(50752)\n",
    "\n",
    "data_test_group = data_test.groupby('7day')['24hr']\n",
    "\n",
    "print data_test.x.std(),data_test.x.median()"
   ]
  },
  {
   "cell_type": "code",
   "execution_count": 45,
   "metadata": {
    "collapsed": false
   },
   "outputs": [
    {
     "data": {
      "text/plain": [
       "496011       6\n",
       "1416621      5\n",
       "5402745      6\n",
       "7261512      6\n",
       "10023583     4\n",
       "10745684     8\n",
       "11108147     6\n",
       "16372709     8\n",
       "20454544    22\n",
       "23360864     8\n",
       "23513115     3\n",
       "Name: 24hr, dtype: float64"
      ]
     },
     "execution_count": 45,
     "metadata": {},
     "output_type": "execute_result"
    }
   ],
   "source": [
    "data_test_group.get_group(1)"
   ]
  },
  {
   "cell_type": "code",
   "execution_count": 59,
   "metadata": {
    "collapsed": false
   },
   "outputs": [
    {
     "name": "stdout",
     "output_type": "stream",
     "text": [
      "0.758215317764 3.2036\n"
     ]
    }
   ],
   "source": [
    "data_test = group_all.get_group(13789)\n",
    "\n",
    "#data_test_group = data_test.groupby('7day')['24hr']\n",
    "\n",
    "print data_test.x.std(),data_test.x.median()"
   ]
  },
  {
   "cell_type": "code",
   "execution_count": 57,
   "metadata": {
    "collapsed": false
   },
   "outputs": [
    {
     "data": {
      "text/plain": [
       "3.2036"
      ]
     },
     "execution_count": 57,
     "metadata": {},
     "output_type": "execute_result"
    }
   ],
   "source": [
    "data_test.x.median()"
   ]
  },
  {
   "cell_type": "code",
   "execution_count": 20,
   "metadata": {
    "collapsed": false
   },
   "outputs": [
    {
     "data": {
      "text/plain": [
       "{0.0: KernelDensity(algorithm='auto', atol=0, bandwidth=0.25, breadth_first=True,\n",
       "        kernel='gaussian', leaf_size=40, metric='euclidean',\n",
       "        metric_params=None, rtol=0),\n",
       " 3.0: KernelDensity(algorithm='auto', atol=0, bandwidth=0.25, breadth_first=True,\n",
       "        kernel='gaussian', leaf_size=40, metric='euclidean',\n",
       "        metric_params=None, rtol=0),\n",
       " 4.0: KernelDensity(algorithm='auto', atol=0, bandwidth=0.25, breadth_first=True,\n",
       "        kernel='gaussian', leaf_size=40, metric='euclidean',\n",
       "        metric_params=None, rtol=0),\n",
       " 5.0: KernelDensity(algorithm='auto', atol=0, bandwidth=0.25, breadth_first=True,\n",
       "        kernel='gaussian', leaf_size=40, metric='euclidean',\n",
       "        metric_params=None, rtol=0),\n",
       " 6.0: KernelDensity(algorithm='auto', atol=0, bandwidth=0.25, breadth_first=True,\n",
       "        kernel='gaussian', leaf_size=40, metric='euclidean',\n",
       "        metric_params=None, rtol=0)}"
      ]
     },
     "execution_count": 20,
     "metadata": {},
     "output_type": "execute_result"
    }
   ],
   "source": [
    "kde_day_hr[95140]"
   ]
  },
  {
   "cell_type": "code",
   "execution_count": 104,
   "metadata": {
    "collapsed": false
   },
   "outputs": [],
   "source": [
    "top20 = score_2_sort[:10].index.values\n",
    "score_1 = score1(top20)"
   ]
  },
  {
   "cell_type": "code",
   "execution_count": 105,
   "metadata": {
    "collapsed": false
   },
   "outputs": [
    {
     "data": {
      "text/plain": [
       "array([68283, 60984,  1277, 94479, 40167, 78067, 47660, 48393, 45797, 13789], dtype=int64)"
      ]
     },
     "execution_count": 105,
     "metadata": {},
     "output_type": "execute_result"
    }
   ],
   "source": [
    "top20"
   ]
  },
  {
   "cell_type": "code",
   "execution_count": 101,
   "metadata": {
    "collapsed": false
   },
   "outputs": [
    {
     "data": {
      "text/plain": [
       "place_id\n",
       "94479     4.302285\n",
       "1277      1.937639\n",
       "45797     1.639067\n",
       "60984     1.253166\n",
       "57070     1.230342\n",
       "57953     0.682568\n",
       "47660     0.302311\n",
       "48393     0.199229\n",
       "41222     0.158704\n",
       "59923     0.091505\n",
       "78067     0.078688\n",
       "73485     0.076540\n",
       "40639     0.050839\n",
       "13789     0.024054\n",
       "101558    0.023836\n",
       "55592     0.023258\n",
       "40167     0.017962\n",
       "68283     0.006121\n",
       "50752     0.003152\n",
       "95140     0.000735\n",
       "Name: ttl_col, dtype: float64"
      ]
     },
     "execution_count": 101,
     "metadata": {},
     "output_type": "execute_result"
    }
   ],
   "source": [
    "score_1.sort_values(ascending=0)"
   ]
  },
  {
   "cell_type": "code",
   "execution_count": 91,
   "metadata": {
    "collapsed": false
   },
   "outputs": [
    {
     "data": {
      "text/plain": [
       "y    0.011828\n",
       "x    0.246849\n",
       "Name: 75, dtype: float64"
      ]
     },
     "execution_count": 91,
     "metadata": {},
     "output_type": "execute_result"
    }
   ],
   "source": [
    "group3.ix[75]"
   ]
  },
  {
   "cell_type": "code",
   "execution_count": 89,
   "metadata": {
    "collapsed": false
   },
   "outputs": [
    {
     "data": {
      "text/plain": [
       "x               3.2494\n",
       "y               3.2096\n",
       "accuracy       75.0000\n",
       "day           540.0000\n",
       "24hr            6.0000\n",
       "7day            1.0000\n",
       "week           25.0000\n",
       "month           6.0000\n",
       "place_id    13789.0000\n",
       "Name: 16, dtype: float64"
      ]
     },
     "execution_count": 89,
     "metadata": {},
     "output_type": "execute_result"
    }
   ],
   "source": [
    "test.ix[16]"
   ]
  },
  {
   "cell_type": "code",
   "execution_count": 94,
   "metadata": {
    "collapsed": true
   },
   "outputs": [],
   "source": [
    "group1_3 = group1_3.drop(['count','first_check_in','checkins_90'],axis=1)"
   ]
  },
  {
   "cell_type": "code",
   "execution_count": 96,
   "metadata": {
    "collapsed": true
   },
   "outputs": [],
   "source": [
    "ttl_cols = ['popularity','popularity_90','last_check_in','duration']\n",
    "group1_3['ttl_col'] = group1_3[ttl_cols].product(axis=1)"
   ]
  },
  {
   "cell_type": "code",
   "execution_count": 106,
   "metadata": {
    "collapsed": false
   },
   "outputs": [
    {
     "data": {
      "text/html": [
       "<div>\n",
       "<table border=\"1\" class=\"dataframe\">\n",
       "  <thead>\n",
       "    <tr style=\"text-align: right;\">\n",
       "      <th></th>\n",
       "      <th>place_id</th>\n",
       "      <th>y_med</th>\n",
       "      <th>x_med</th>\n",
       "      <th>last_check_in</th>\n",
       "      <th>popularity</th>\n",
       "      <th>duration</th>\n",
       "      <th>popularity_90</th>\n",
       "      <th>ttl_col</th>\n",
       "    </tr>\n",
       "    <tr>\n",
       "      <th>place_id</th>\n",
       "      <th></th>\n",
       "      <th></th>\n",
       "      <th></th>\n",
       "      <th></th>\n",
       "      <th></th>\n",
       "      <th></th>\n",
       "      <th></th>\n",
       "      <th></th>\n",
       "    </tr>\n",
       "  </thead>\n",
       "  <tbody>\n",
       "    <tr>\n",
       "      <th>94479</th>\n",
       "      <td>94479</td>\n",
       "      <td>3.2156</td>\n",
       "      <td>3.4307</td>\n",
       "      <td>1.004</td>\n",
       "      <td>3.283133</td>\n",
       "      <td>1.004</td>\n",
       "      <td>1.300000</td>\n",
       "      <td>4.302285</td>\n",
       "    </tr>\n",
       "    <tr>\n",
       "      <th>1277</th>\n",
       "      <td>1277</td>\n",
       "      <td>3.2055</td>\n",
       "      <td>3.4156</td>\n",
       "      <td>1.010</td>\n",
       "      <td>1.468354</td>\n",
       "      <td>0.956</td>\n",
       "      <td>1.366667</td>\n",
       "      <td>1.937639</td>\n",
       "    </tr>\n",
       "    <tr>\n",
       "      <th>45797</th>\n",
       "      <td>45797</td>\n",
       "      <td>3.2039</td>\n",
       "      <td>3.4697</td>\n",
       "      <td>1.010</td>\n",
       "      <td>1.180361</td>\n",
       "      <td>1.006</td>\n",
       "      <td>1.366667</td>\n",
       "      <td>1.639067</td>\n",
       "    </tr>\n",
       "    <tr>\n",
       "      <th>60984</th>\n",
       "      <td>60984</td>\n",
       "      <td>3.2161</td>\n",
       "      <td>3.2793</td>\n",
       "      <td>1.008</td>\n",
       "      <td>1.112224</td>\n",
       "      <td>1.006</td>\n",
       "      <td>1.111111</td>\n",
       "      <td>1.253166</td>\n",
       "    </tr>\n",
       "    <tr>\n",
       "      <th>47660</th>\n",
       "      <td>47660</td>\n",
       "      <td>3.2126</td>\n",
       "      <td>3.0882</td>\n",
       "      <td>1.002</td>\n",
       "      <td>0.523232</td>\n",
       "      <td>0.998</td>\n",
       "      <td>0.577778</td>\n",
       "      <td>0.302311</td>\n",
       "    </tr>\n",
       "    <tr>\n",
       "      <th>48393</th>\n",
       "      <td>48393</td>\n",
       "      <td>3.2301</td>\n",
       "      <td>3.1906</td>\n",
       "      <td>1.008</td>\n",
       "      <td>0.348790</td>\n",
       "      <td>1.000</td>\n",
       "      <td>0.566667</td>\n",
       "      <td>0.199229</td>\n",
       "    </tr>\n",
       "    <tr>\n",
       "      <th>78067</th>\n",
       "      <td>78067</td>\n",
       "      <td>3.2026</td>\n",
       "      <td>3.4178</td>\n",
       "      <td>0.986</td>\n",
       "      <td>0.281314</td>\n",
       "      <td>0.982</td>\n",
       "      <td>0.288889</td>\n",
       "      <td>0.078688</td>\n",
       "    </tr>\n",
       "    <tr>\n",
       "      <th>13789</th>\n",
       "      <td>13789</td>\n",
       "      <td>3.2179</td>\n",
       "      <td>3.2036</td>\n",
       "      <td>1.008</td>\n",
       "      <td>0.146998</td>\n",
       "      <td>0.974</td>\n",
       "      <td>0.166667</td>\n",
       "      <td>0.024054</td>\n",
       "    </tr>\n",
       "    <tr>\n",
       "      <th>40167</th>\n",
       "      <td>40167</td>\n",
       "      <td>3.2316</td>\n",
       "      <td>3.0487</td>\n",
       "      <td>0.988</td>\n",
       "      <td>0.203008</td>\n",
       "      <td>0.806</td>\n",
       "      <td>0.111111</td>\n",
       "      <td>0.017962</td>\n",
       "    </tr>\n",
       "    <tr>\n",
       "      <th>68283</th>\n",
       "      <td>68283</td>\n",
       "      <td>3.2043</td>\n",
       "      <td>3.2983</td>\n",
       "      <td>0.988</td>\n",
       "      <td>0.173804</td>\n",
       "      <td>0.802</td>\n",
       "      <td>0.044444</td>\n",
       "      <td>0.006121</td>\n",
       "    </tr>\n",
       "  </tbody>\n",
       "</table>\n",
       "</div>"
      ],
      "text/plain": [
       "          place_id   y_med   x_med  last_check_in  popularity  duration  \\\n",
       "place_id                                                                  \n",
       "94479        94479  3.2156  3.4307          1.004    3.283133     1.004   \n",
       "1277          1277  3.2055  3.4156          1.010    1.468354     0.956   \n",
       "45797        45797  3.2039  3.4697          1.010    1.180361     1.006   \n",
       "60984        60984  3.2161  3.2793          1.008    1.112224     1.006   \n",
       "47660        47660  3.2126  3.0882          1.002    0.523232     0.998   \n",
       "48393        48393  3.2301  3.1906          1.008    0.348790     1.000   \n",
       "78067        78067  3.2026  3.4178          0.986    0.281314     0.982   \n",
       "13789        13789  3.2179  3.2036          1.008    0.146998     0.974   \n",
       "40167        40167  3.2316  3.0487          0.988    0.203008     0.806   \n",
       "68283        68283  3.2043  3.2983          0.988    0.173804     0.802   \n",
       "\n",
       "          popularity_90   ttl_col  \n",
       "place_id                           \n",
       "94479          1.300000  4.302285  \n",
       "1277           1.366667  1.937639  \n",
       "45797          1.366667  1.639067  \n",
       "60984          1.111111  1.253166  \n",
       "47660          0.577778  0.302311  \n",
       "48393          0.566667  0.199229  \n",
       "78067          0.288889  0.078688  \n",
       "13789          0.166667  0.024054  \n",
       "40167          0.111111  0.017962  \n",
       "68283          0.044444  0.006121  "
      ]
     },
     "execution_count": 106,
     "metadata": {},
     "output_type": "execute_result"
    }
   ],
   "source": [
    "group1_3.ix[top20].sort_values('ttl_col',ascending=0)"
   ]
  },
  {
   "cell_type": "code",
   "execution_count": 196,
   "metadata": {
    "collapsed": false
   },
   "outputs": [
    {
     "data": {
      "text/html": [
       "<div>\n",
       "<table border=\"1\" class=\"dataframe\">\n",
       "  <thead>\n",
       "    <tr style=\"text-align: right;\">\n",
       "      <th></th>\n",
       "      <th>x</th>\n",
       "      <th>y</th>\n",
       "      <th>accuracy</th>\n",
       "      <th>day</th>\n",
       "      <th>24hr</th>\n",
       "      <th>7day</th>\n",
       "      <th>week</th>\n",
       "      <th>month</th>\n",
       "      <th>place_id</th>\n",
       "    </tr>\n",
       "  </thead>\n",
       "  <tbody>\n",
       "    <tr>\n",
       "      <th>16537148</th>\n",
       "      <td>0.5042</td>\n",
       "      <td>3.2041</td>\n",
       "      <td>76</td>\n",
       "      <td>212</td>\n",
       "      <td>10</td>\n",
       "      <td>2</td>\n",
       "      <td>30</td>\n",
       "      <td>6</td>\n",
       "      <td>68283</td>\n",
       "    </tr>\n",
       "    <tr>\n",
       "      <th>23068869</th>\n",
       "      <td>3.2996</td>\n",
       "      <td>3.1927</td>\n",
       "      <td>76</td>\n",
       "      <td>216</td>\n",
       "      <td>11</td>\n",
       "      <td>6</td>\n",
       "      <td>30</td>\n",
       "      <td>7</td>\n",
       "      <td>68283</td>\n",
       "    </tr>\n",
       "  </tbody>\n",
       "</table>\n",
       "</div>"
      ],
      "text/plain": [
       "               x       y  accuracy  day  24hr  7day  week  month  place_id\n",
       "16537148  0.5042  3.2041        76  212    10     2    30      6     68283\n",
       "23068869  3.2996  3.1927        76  216    11     6    30      7     68283"
      ]
     },
     "execution_count": 196,
     "metadata": {},
     "output_type": "execute_result"
    }
   ],
   "source": [
    "data = group_all.get_group(idx)\n",
    "data[data.accuracy==76]"
   ]
  },
  {
   "cell_type": "code",
   "execution_count": 188,
   "metadata": {
    "collapsed": false
   },
   "outputs": [
    {
     "data": {
      "text/plain": [
       "[<matplotlib.lines.Line2D at 0x2c3fae0b8>]"
      ]
     },
     "execution_count": 188,
     "metadata": {},
     "output_type": "execute_result"
    },
    {
     "data": {
      "image/png": "[encoded data removed]",
      "text/plain": [
       "<matplotlib.figure.Figure at 0x2c3b9c240>"
      ]
     },
     "metadata": {},
     "output_type": "display_data"
    }
   ],
   "source": [
    "for idx in top20[:1]:\n",
    "    data = group_all.get_group(idx)[['x','y','accuracy']]\n",
    "    data = data[data.accuracy==75][['x','y']]\n",
    "    plt.plot(data.x,data.y,'.',label=idx)\n",
    "plt.legend()    \n",
    "plt.plot(row.x,row.y,'*')        "
   ]
  },
  {
   "cell_type": "code",
   "execution_count": 186,
   "metadata": {
    "collapsed": false
   },
   "outputs": [
    {
     "data": {
      "text/plain": [
       "(0, 10)"
      ]
     },
     "execution_count": 186,
     "metadata": {},
     "output_type": "execute_result"
    },
    {
     "data": {
      "image/png": "[encoded data removed]",
      "text/plain": [
       "<matplotlib.figure.Figure at 0x2c30cd780>"
      ]
     },
     "metadata": {},
     "output_type": "display_data"
    }
   ],
   "source": [
    "for idx in top20[2:4]:\n",
    "    data = group_all.get_group(idx)[['x','y','accuracy']]\n",
    "    data = data[data.accuracy==75][['x','y']]\n",
    "    plt.plot(data.x,data.y,'.',label=idx)\n",
    "plt.legend()    \n",
    "plt.plot(row.x,row.y,'*')   \n",
    "plt.xlim(0,10)"
   ]
  },
  {
   "cell_type": "code",
   "execution_count": 184,
   "metadata": {
    "collapsed": false
   },
   "outputs": [
    {
     "data": {
      "text/plain": [
       "[<matplotlib.lines.Line2D at 0x2c3354240>]"
      ]
     },
     "execution_count": 184,
     "metadata": {},
     "output_type": "execute_result"
    },
    {
     "data": {
      "image/png": "[encoded data removed]",
      "text/plain": [
       "<matplotlib.figure.Figure at 0x2c2d057b8>"
      ]
     },
     "metadata": {},
     "output_type": "display_data"
    }
   ],
   "source": [
    "for idx in top20[4:6]:\n",
    "    data = group_all.get_group(idx)[['x','y','accuracy']]\n",
    "    data = data[data.accuracy==75][['x','y']]\n",
    "    plt.plot(data.x,data.y,'.',label=idx)\n",
    "plt.legend()\n",
    "plt.plot(row.x,row.y,'*')      "
   ]
  },
  {
   "cell_type": "code",
   "execution_count": 183,
   "metadata": {
    "collapsed": false
   },
   "outputs": [
    {
     "data": {
      "text/plain": [
       "(3.05, 4)"
      ]
     },
     "execution_count": 183,
     "metadata": {},
     "output_type": "execute_result"
    },
    {
     "data": {
      "image/png": "[encoded data removed]",
      "text/plain": [
       "<matplotlib.figure.Figure at 0x2c28ccc50>"
      ]
     },
     "metadata": {},
     "output_type": "display_data"
    }
   ],
   "source": [
    "for idx in top20[6:8]:\n",
    "    data = group_all.get_group(idx)[['x','y','accuracy']]\n",
    "    data = data[data.accuracy==75][['x','y']]\n",
    "    plt.plot(data.x,data.y,'.',label=idx)\n",
    "plt.legend()\n",
    "plt.plot(row.x,row.y,'*')  \n",
    "plt.xlim(3.05,4)"
   ]
  },
  {
   "cell_type": "code",
   "execution_count": 181,
   "metadata": {
    "collapsed": false
   },
   "outputs": [
    {
     "data": {
      "text/plain": [
       "[<matplotlib.lines.Line2D at 0x2c2a07dd8>]"
      ]
     },
     "execution_count": 181,
     "metadata": {},
     "output_type": "execute_result"
    },
    {
     "data": {
      "image/png": "[encoded data removed]",
      "text/plain": [
       "<matplotlib.figure.Figure at 0x7b566a0>"
      ]
     },
     "metadata": {},
     "output_type": "display_data"
    }
   ],
   "source": [
    "for idx in top20[8:]:\n",
    "    data = group_all.get_group(idx)[['x','y','accuracy']]\n",
    "    data = data[data.accuracy==75][['x','y']]\n",
    "    plt.plot(data.x,data.y,'.',label=idx)\n",
    "plt.legend()\n",
    "plt.plot(row.x,row.y,'*')      "
   ]
  },
  {
   "cell_type": "code",
   "execution_count": 107,
   "metadata": {
    "collapsed": true
   },
   "outputs": [],
   "source": [
    "#GMM\n",
    "\n",
    "from sklearn.mixture import GMM"
   ]
  },
  {
   "cell_type": "code",
   "execution_count": 169,
   "metadata": {
    "collapsed": true
   },
   "outputs": [],
   "source": [
    "num_c = 2\n",
    "clf = GMM(n_components=num_c,covariance_type='tied')"
   ]
  },
  {
   "cell_type": "code",
   "execution_count": 173,
   "metadata": {
    "collapsed": false
   },
   "outputs": [],
   "source": [
    "data1_1 = group_all.get_group(45797)[['x','y','accuracy']]\n",
    "data1_2 = group_all.get_group(13789)[['x','y','accuracy']]\n",
    "data1_2_all = pd.concat((data1_2,data1_1),axis=0)"
   ]
  },
  {
   "cell_type": "code",
   "execution_count": 178,
   "metadata": {
    "collapsed": false
   },
   "outputs": [
    {
     "data": {
      "text/html": [
       "<div>\n",
       "<table border=\"1\" class=\"dataframe\">\n",
       "  <thead>\n",
       "    <tr style=\"text-align: right;\">\n",
       "      <th></th>\n",
       "      <th>x</th>\n",
       "      <th>y</th>\n",
       "      <th>accuracy</th>\n",
       "    </tr>\n",
       "  </thead>\n",
       "  <tbody>\n",
       "    <tr>\n",
       "      <th>3022316</th>\n",
       "      <td>3.184</td>\n",
       "      <td>3.2214</td>\n",
       "      <td>75</td>\n",
       "    </tr>\n",
       "  </tbody>\n",
       "</table>\n",
       "</div>"
      ],
      "text/plain": [
       "             x       y  accuracy\n",
       "3022316  3.184  3.2214        75"
      ]
     },
     "execution_count": 178,
     "metadata": {},
     "output_type": "execute_result"
    }
   ],
   "source": [
    "data1_2[data1_2.accuracy==75]"
   ]
  },
  {
   "cell_type": "code",
   "execution_count": 179,
   "metadata": {
    "collapsed": false
   },
   "outputs": [
    {
     "data": {
      "text/html": [
       "<div>\n",
       "<table border=\"1\" class=\"dataframe\">\n",
       "  <thead>\n",
       "    <tr style=\"text-align: right;\">\n",
       "      <th></th>\n",
       "      <th>x</th>\n",
       "      <th>y</th>\n",
       "      <th>accuracy</th>\n",
       "    </tr>\n",
       "  </thead>\n",
       "  <tbody>\n",
       "    <tr>\n",
       "      <th>5977028</th>\n",
       "      <td>3.4655</td>\n",
       "      <td>3.2019</td>\n",
       "      <td>75</td>\n",
       "    </tr>\n",
       "    <tr>\n",
       "      <th>10907354</th>\n",
       "      <td>3.4483</td>\n",
       "      <td>3.1987</td>\n",
       "      <td>75</td>\n",
       "    </tr>\n",
       "    <tr>\n",
       "      <th>16357199</th>\n",
       "      <td>4.3163</td>\n",
       "      <td>3.2043</td>\n",
       "      <td>75</td>\n",
       "    </tr>\n",
       "    <tr>\n",
       "      <th>21033227</th>\n",
       "      <td>3.4711</td>\n",
       "      <td>3.1956</td>\n",
       "      <td>75</td>\n",
       "    </tr>\n",
       "    <tr>\n",
       "      <th>26680952</th>\n",
       "      <td>3.4718</td>\n",
       "      <td>3.1915</td>\n",
       "      <td>75</td>\n",
       "    </tr>\n",
       "    <tr>\n",
       "      <th>27228677</th>\n",
       "      <td>3.4746</td>\n",
       "      <td>3.1858</td>\n",
       "      <td>75</td>\n",
       "    </tr>\n",
       "    <tr>\n",
       "      <th>28547375</th>\n",
       "      <td>3.4575</td>\n",
       "      <td>3.1940</td>\n",
       "      <td>75</td>\n",
       "    </tr>\n",
       "  </tbody>\n",
       "</table>\n",
       "</div>"
      ],
      "text/plain": [
       "               x       y  accuracy\n",
       "5977028   3.4655  3.2019        75\n",
       "10907354  3.4483  3.1987        75\n",
       "16357199  4.3163  3.2043        75\n",
       "21033227  3.4711  3.1956        75\n",
       "26680952  3.4718  3.1915        75\n",
       "27228677  3.4746  3.1858        75\n",
       "28547375  3.4575  3.1940        75"
      ]
     },
     "execution_count": 179,
     "metadata": {},
     "output_type": "execute_result"
    }
   ],
   "source": [
    "data1_1[data1_1.accuracy==75]"
   ]
  },
  {
   "cell_type": "code",
   "execution_count": 180,
   "metadata": {
    "collapsed": false
   },
   "outputs": [
    {
     "data": {
      "text/plain": [
       "x               3.2494\n",
       "y               3.2096\n",
       "accuracy       75.0000\n",
       "day           540.0000\n",
       "24hr            6.0000\n",
       "7day            1.0000\n",
       "week           25.0000\n",
       "month           6.0000\n",
       "place_id    13789.0000\n",
       "Name: 16, dtype: float64"
      ]
     },
     "execution_count": 180,
     "metadata": {},
     "output_type": "execute_result"
    }
   ],
   "source": [
    "row"
   ]
  },
  {
   "cell_type": "code",
   "execution_count": 170,
   "metadata": {
    "collapsed": false
   },
   "outputs": [
    {
     "data": {
      "text/plain": [
       "GMM(covariance_type='tied', init_params='wmc', min_covar=0.001,\n",
       "  n_components=2, n_init=1, n_iter=100, params='wmc', random_state=None,\n",
       "  thresh=None, tol=0.001, verbose=0)"
      ]
     },
     "execution_count": 170,
     "metadata": {},
     "output_type": "execute_result"
    }
   ],
   "source": [
    "clf.fit(data1_2_all)"
   ]
  },
  {
   "cell_type": "code",
   "execution_count": 171,
   "metadata": {
    "collapsed": false
   },
   "outputs": [
    {
     "data": {
      "text/plain": [
       "array([[  1.00000000e+00,   6.17376768e-43]])"
      ]
     },
     "execution_count": 171,
     "metadata": {},
     "output_type": "execute_result"
    }
   ],
   "source": [
    "clf.predict_proba(row[['x','y']].reshape(1,-1))"
   ]
  },
  {
   "cell_type": "code",
   "execution_count": 172,
   "metadata": {
    "collapsed": false
   },
   "outputs": [
    {
     "data": {
      "text/plain": [
       "array([[ 3.44810767,  3.20383997],\n",
       "       [ 7.19345768,  3.21928572]])"
      ]
     },
     "execution_count": 172,
     "metadata": {},
     "output_type": "execute_result"
    }
   ],
   "source": [
    "clf.means_"
   ]
  },
  {
   "cell_type": "code",
   "execution_count": 154,
   "metadata": {
    "collapsed": false
   },
   "outputs": [
    {
     "data": {
      "text/plain": [
       "array([0], dtype=int64)"
      ]
     },
     "execution_count": 154,
     "metadata": {},
     "output_type": "execute_result"
    }
   ],
   "source": [
    "clf.predict(row[['x','y']].reshape(1,-1))"
   ]
  },
  {
   "cell_type": "code",
   "execution_count": 158,
   "metadata": {
    "collapsed": false
   },
   "outputs": [
    {
     "data": {
      "text/plain": [
       "array([[ 0.97825242,  0.02174758],\n",
       "       [ 0.98024799,  0.01975201],\n",
       "       [ 0.95406027,  0.04593973],\n",
       "       ..., \n",
       "       [ 0.99832702,  0.00167298],\n",
       "       [ 0.99853142,  0.00146858],\n",
       "       [ 0.99861683,  0.00138317]])"
      ]
     },
     "execution_count": 158,
     "metadata": {},
     "output_type": "execute_result"
    }
   ],
   "source": [
    "clf.predict_proba(data1_2_all)"
   ]
  },
  {
   "cell_type": "code",
   "execution_count": 145,
   "metadata": {
    "collapsed": false
   },
   "outputs": [
    {
     "name": "stdout",
     "output_type": "stream",
     "text": [
      "0.18\n"
     ]
    }
   ],
   "source": [
    "ttl_true = 0\n",
    "for ind in test.index[:n]:\n",
    "    actual_id = test.ix[ind].place_id\n",
    "    if actual_id in submission.ix[ind].place_id:\n",
    "        ttl_true += 1\n",
    "print ttl_true*1./n        "
   ]
  },
  {
   "cell_type": "code",
   "execution_count": 63,
   "metadata": {
    "collapsed": false
   },
   "outputs": [
    {
     "data": {
      "text/plain": [
       "0.14749999999999999"
      ]
     },
     "execution_count": 63,
     "metadata": {},
     "output_type": "execute_result"
    }
   ],
   "source": [
    "import ml_metrics as metrics\n",
    "target = [[tar] for tar in test[:n].place_id]\n",
    "\n",
    "metrics.mapk(target,submission.place_id,k=3)"
   ]
  },
  {
   "cell_type": "code",
   "execution_count": 281,
   "metadata": {
    "collapsed": false
   },
   "outputs": [],
   "source": [
    "data = group_all.get_group(94479)\n",
    "\n",
    "data_1 = data[(data.day>=410) & (data.day<=500)]"
   ]
  },
  {
   "cell_type": "code",
   "execution_count": 247,
   "metadata": {
    "collapsed": false
   },
   "outputs": [
    {
     "data": {
      "text/html": [
       "<div>\n",
       "<table border=\"1\" class=\"dataframe\">\n",
       "  <thead>\n",
       "    <tr style=\"text-align: right;\">\n",
       "      <th></th>\n",
       "      <th>x</th>\n",
       "      <th>y</th>\n",
       "      <th>accuracy</th>\n",
       "      <th>day</th>\n",
       "      <th>24hr</th>\n",
       "      <th>7day</th>\n",
       "      <th>week</th>\n",
       "      <th>month</th>\n",
       "      <th>place_id</th>\n",
       "    </tr>\n",
       "  </thead>\n",
       "  <tbody>\n",
       "    <tr>\n",
       "      <th>6559</th>\n",
       "      <td>3.3455</td>\n",
       "      <td>3.2195</td>\n",
       "      <td>51</td>\n",
       "      <td>44</td>\n",
       "      <td>14</td>\n",
       "      <td>2</td>\n",
       "      <td>6</td>\n",
       "      <td>1</td>\n",
       "      <td>94479</td>\n",
       "    </tr>\n",
       "    <tr>\n",
       "      <th>51135</th>\n",
       "      <td>1.5778</td>\n",
       "      <td>3.1329</td>\n",
       "      <td>74</td>\n",
       "      <td>279</td>\n",
       "      <td>16</td>\n",
       "      <td>6</td>\n",
       "      <td>39</td>\n",
       "      <td>9</td>\n",
       "      <td>94479</td>\n",
       "    </tr>\n",
       "    <tr>\n",
       "      <th>64839</th>\n",
       "      <td>3.3623</td>\n",
       "      <td>3.2147</td>\n",
       "      <td>975</td>\n",
       "      <td>344</td>\n",
       "      <td>17</td>\n",
       "      <td>1</td>\n",
       "      <td>49</td>\n",
       "      <td>11</td>\n",
       "      <td>94479</td>\n",
       "    </tr>\n",
       "    <tr>\n",
       "      <th>72980</th>\n",
       "      <td>3.4518</td>\n",
       "      <td>3.2193</td>\n",
       "      <td>65</td>\n",
       "      <td>89</td>\n",
       "      <td>10</td>\n",
       "      <td>5</td>\n",
       "      <td>12</td>\n",
       "      <td>2</td>\n",
       "      <td>94479</td>\n",
       "    </tr>\n",
       "    <tr>\n",
       "      <th>115120</th>\n",
       "      <td>3.1875</td>\n",
       "      <td>3.2119</td>\n",
       "      <td>1</td>\n",
       "      <td>96</td>\n",
       "      <td>8</td>\n",
       "      <td>5</td>\n",
       "      <td>13</td>\n",
       "      <td>3</td>\n",
       "      <td>94479</td>\n",
       "    </tr>\n",
       "  </tbody>\n",
       "</table>\n",
       "</div>"
      ],
      "text/plain": [
       "             x       y  accuracy  day  24hr  7day  week  month  place_id\n",
       "6559    3.3455  3.2195        51   44    14     2     6      1     94479\n",
       "51135   1.5778  3.1329        74  279    16     6    39      9     94479\n",
       "64839   3.3623  3.2147       975  344    17     1    49     11     94479\n",
       "72980   3.4518  3.2193        65   89    10     5    12      2     94479\n",
       "115120  3.1875  3.2119         1   96     8     5    13      3     94479"
      ]
     },
     "execution_count": 247,
     "metadata": {},
     "output_type": "execute_result"
    }
   ],
   "source": [
    "data.head()"
   ]
  },
  {
   "cell_type": "code",
   "execution_count": 282,
   "metadata": {
    "collapsed": false
   },
   "outputs": [],
   "source": [
    "data_2 = data.groupby(['month','week','7day','24hr']).agg({'24hr':'count'})\n",
    "#plt.plot(data_2['24hr'],'*-')"
   ]
  },
  {
   "cell_type": "code",
   "execution_count": 285,
   "metadata": {
    "collapsed": false
   },
   "outputs": [
    {
     "data": {
      "text/html": [
       "<div>\n",
       "<table border=\"1\" class=\"dataframe\">\n",
       "  <thead>\n",
       "    <tr style=\"text-align: right;\">\n",
       "      <th></th>\n",
       "      <th></th>\n",
       "      <th>24hr</th>\n",
       "    </tr>\n",
       "    <tr>\n",
       "      <th>7day</th>\n",
       "      <th>24hr</th>\n",
       "      <th></th>\n",
       "    </tr>\n",
       "  </thead>\n",
       "  <tbody>\n",
       "  </tbody>\n",
       "</table>\n",
       "</div>"
      ],
      "text/plain": [
       "Empty DataFrame\n",
       "Columns: [24hr]\n",
       "Index: []"
      ]
     },
     "execution_count": 285,
     "metadata": {},
     "output_type": "execute_result"
    }
   ],
   "source": [
    "data_2.ix[6].ix[25]"
   ]
  },
  {
   "cell_type": "code",
   "execution_count": 250,
   "metadata": {
    "collapsed": false
   },
   "outputs": [
    {
     "data": {
      "image/png": "[encoded data removed]",
      "text/plain": [
       "<matplotlib.figure.Figure at 0x2c760e0b8>"
      ]
     },
     "metadata": {},
     "output_type": "display_data"
    }
   ],
   "source": [
    "_=plt.hist(data['24hr'],bins=24)"
   ]
  },
  {
   "cell_type": "code",
   "execution_count": 213,
   "metadata": {
    "collapsed": false
   },
   "outputs": [
    {
     "data": {
      "image/png": "[encoded data removed]",
      "text/plain": [
       "<matplotlib.figure.Figure at 0x2c50f6320>"
      ]
     },
     "metadata": {},
     "output_type": "display_data"
    }
   ],
   "source": [
    "_=plt.hist(data_1['7day'],bins=7)"
   ]
  },
  {
   "cell_type": "code",
   "execution_count": 245,
   "metadata": {
    "collapsed": false
   },
   "outputs": [
    {
     "data": {
      "image/png": "[encoded data removed]",
      "text/plain": [
       "<matplotlib.figure.Figure at 0x2c718f1d0>"
      ]
     },
     "metadata": {},
     "output_type": "display_data"
    }
   ],
   "source": [
    "_=plt.hist(data_1.day.sort_values().diff().dropna(),bins=50)"
   ]
  },
  {
   "cell_type": "code",
   "execution_count": 204,
   "metadata": {
    "collapsed": false
   },
   "outputs": [
    {
     "data": {
      "text/plain": [
       "x               3.2494\n",
       "y               3.2096\n",
       "accuracy       75.0000\n",
       "day           540.0000\n",
       "24hr            6.0000\n",
       "7day            1.0000\n",
       "week           25.0000\n",
       "month           6.0000\n",
       "place_id    13789.0000\n",
       "Name: 16, dtype: float64"
      ]
     },
     "execution_count": 204,
     "metadata": {},
     "output_type": "execute_result"
    }
   ],
   "source": [
    "row"
   ]
  },
  {
   "cell_type": "code",
   "execution_count": 290,
   "metadata": {
    "collapsed": false
   },
   "outputs": [
    {
     "data": {
      "image/png": "[encoded data removed]",
      "text/plain": [
       "<matplotlib.figure.Figure at 0x2c8661ac8>"
      ]
     },
     "metadata": {},
     "output_type": "display_data"
    }
   ],
   "source": [
    "data = group_all.get_group(13789)\n",
    "\n",
    "data_1 = data[(data.day>=410) & (data.day<=500)]\n",
    "_=plt.hist(data['24hr'],bins=24)"
   ]
  },
  {
   "cell_type": "code",
   "execution_count": 242,
   "metadata": {
    "collapsed": false
   },
   "outputs": [
    {
     "data": {
      "text/html": [
       "<div>\n",
       "<table border=\"1\" class=\"dataframe\">\n",
       "  <thead>\n",
       "    <tr style=\"text-align: right;\">\n",
       "      <th></th>\n",
       "      <th>x</th>\n",
       "      <th>y</th>\n",
       "      <th>accuracy</th>\n",
       "      <th>day</th>\n",
       "      <th>24hr</th>\n",
       "      <th>7day</th>\n",
       "      <th>week</th>\n",
       "      <th>month</th>\n",
       "      <th>place_id</th>\n",
       "    </tr>\n",
       "  </thead>\n",
       "  <tbody>\n",
       "    <tr>\n",
       "      <th>139028</th>\n",
       "      <td>3.2061</td>\n",
       "      <td>3.2169</td>\n",
       "      <td>65</td>\n",
       "      <td>367</td>\n",
       "      <td>3</td>\n",
       "      <td>3</td>\n",
       "      <td>0</td>\n",
       "      <td>1</td>\n",
       "      <td>13789</td>\n",
       "    </tr>\n",
       "    <tr>\n",
       "      <th>219511</th>\n",
       "      <td>3.2099</td>\n",
       "      <td>3.2172</td>\n",
       "      <td>71</td>\n",
       "      <td>479</td>\n",
       "      <td>4</td>\n",
       "      <td>3</td>\n",
       "      <td>16</td>\n",
       "      <td>4</td>\n",
       "      <td>13789</td>\n",
       "    </tr>\n",
       "    <tr>\n",
       "      <th>1784089</th>\n",
       "      <td>3.1852</td>\n",
       "      <td>3.2027</td>\n",
       "      <td>158</td>\n",
       "      <td>122</td>\n",
       "      <td>5</td>\n",
       "      <td>3</td>\n",
       "      <td>17</td>\n",
       "      <td>4</td>\n",
       "      <td>13789</td>\n",
       "    </tr>\n",
       "    <tr>\n",
       "      <th>1852548</th>\n",
       "      <td>3.2296</td>\n",
       "      <td>3.2330</td>\n",
       "      <td>17</td>\n",
       "      <td>129</td>\n",
       "      <td>3</td>\n",
       "      <td>3</td>\n",
       "      <td>18</td>\n",
       "      <td>4</td>\n",
       "      <td>13789</td>\n",
       "    </tr>\n",
       "    <tr>\n",
       "      <th>3022316</th>\n",
       "      <td>3.1840</td>\n",
       "      <td>3.2214</td>\n",
       "      <td>75</td>\n",
       "      <td>214</td>\n",
       "      <td>20</td>\n",
       "      <td>4</td>\n",
       "      <td>30</td>\n",
       "      <td>7</td>\n",
       "      <td>13789</td>\n",
       "    </tr>\n",
       "  </tbody>\n",
       "</table>\n",
       "</div>"
      ],
      "text/plain": [
       "              x       y  accuracy  day  24hr  7day  week  month  place_id\n",
       "139028   3.2061  3.2169        65  367     3     3     0      1     13789\n",
       "219511   3.2099  3.2172        71  479     4     3    16      4     13789\n",
       "1784089  3.1852  3.2027       158  122     5     3    17      4     13789\n",
       "1852548  3.2296  3.2330        17  129     3     3    18      4     13789\n",
       "3022316  3.1840  3.2214        75  214    20     4    30      7     13789"
      ]
     },
     "execution_count": 242,
     "metadata": {},
     "output_type": "execute_result"
    }
   ],
   "source": [
    "data.head()"
   ]
  },
  {
   "cell_type": "code",
   "execution_count": 243,
   "metadata": {
    "collapsed": false
   },
   "outputs": [
    {
     "data": {
      "image/png": "[encoded data removed]",
      "text/plain": [
       "<matplotlib.figure.Figure at 0x2c6d59a90>"
      ]
     },
     "metadata": {},
     "output_type": "display_data"
    }
   ],
   "source": [
    "_=plt.hist(data_1.day.sort_values().diff().dropna(),bins=50)"
   ]
  },
  {
   "cell_type": "code",
   "execution_count": 253,
   "metadata": {
    "collapsed": false
   },
   "outputs": [
    {
     "data": {
      "text/html": [
       "<div>\n",
       "<table border=\"1\" class=\"dataframe\">\n",
       "  <thead>\n",
       "    <tr style=\"text-align: right;\">\n",
       "      <th></th>\n",
       "      <th>x</th>\n",
       "      <th>y</th>\n",
       "      <th>accuracy</th>\n",
       "      <th>day</th>\n",
       "      <th>24hr</th>\n",
       "      <th>7day</th>\n",
       "      <th>week</th>\n",
       "      <th>month</th>\n",
       "      <th>place_id</th>\n",
       "    </tr>\n",
       "  </thead>\n",
       "  <tbody>\n",
       "    <tr>\n",
       "      <th>139028</th>\n",
       "      <td>3.2061</td>\n",
       "      <td>3.2169</td>\n",
       "      <td>65</td>\n",
       "      <td>367</td>\n",
       "      <td>3</td>\n",
       "      <td>3</td>\n",
       "      <td>0</td>\n",
       "      <td>1</td>\n",
       "      <td>13789</td>\n",
       "    </tr>\n",
       "    <tr>\n",
       "      <th>219511</th>\n",
       "      <td>3.2099</td>\n",
       "      <td>3.2172</td>\n",
       "      <td>71</td>\n",
       "      <td>479</td>\n",
       "      <td>4</td>\n",
       "      <td>3</td>\n",
       "      <td>16</td>\n",
       "      <td>4</td>\n",
       "      <td>13789</td>\n",
       "    </tr>\n",
       "    <tr>\n",
       "      <th>1784089</th>\n",
       "      <td>3.1852</td>\n",
       "      <td>3.2027</td>\n",
       "      <td>158</td>\n",
       "      <td>122</td>\n",
       "      <td>5</td>\n",
       "      <td>3</td>\n",
       "      <td>17</td>\n",
       "      <td>4</td>\n",
       "      <td>13789</td>\n",
       "    </tr>\n",
       "    <tr>\n",
       "      <th>1852548</th>\n",
       "      <td>3.2296</td>\n",
       "      <td>3.2330</td>\n",
       "      <td>17</td>\n",
       "      <td>129</td>\n",
       "      <td>3</td>\n",
       "      <td>3</td>\n",
       "      <td>18</td>\n",
       "      <td>4</td>\n",
       "      <td>13789</td>\n",
       "    </tr>\n",
       "    <tr>\n",
       "      <th>3022316</th>\n",
       "      <td>3.1840</td>\n",
       "      <td>3.2214</td>\n",
       "      <td>75</td>\n",
       "      <td>214</td>\n",
       "      <td>20</td>\n",
       "      <td>4</td>\n",
       "      <td>30</td>\n",
       "      <td>7</td>\n",
       "      <td>13789</td>\n",
       "    </tr>\n",
       "  </tbody>\n",
       "</table>\n",
       "</div>"
      ],
      "text/plain": [
       "              x       y  accuracy  day  24hr  7day  week  month  place_id\n",
       "139028   3.2061  3.2169        65  367     3     3     0      1     13789\n",
       "219511   3.2099  3.2172        71  479     4     3    16      4     13789\n",
       "1784089  3.1852  3.2027       158  122     5     3    17      4     13789\n",
       "1852548  3.2296  3.2330        17  129     3     3    18      4     13789\n",
       "3022316  3.1840  3.2214        75  214    20     4    30      7     13789"
      ]
     },
     "execution_count": 253,
     "metadata": {},
     "output_type": "execute_result"
    }
   ],
   "source": [
    "data.head()"
   ]
  },
  {
   "cell_type": "code",
   "execution_count": 298,
   "metadata": {
    "collapsed": true
   },
   "outputs": [],
   "source": [
    "data_2 = data.groupby(['month','7day','24hr']).agg({'24hr':'count'})"
   ]
  },
  {
   "cell_type": "code",
   "execution_count": 299,
   "metadata": {
    "collapsed": false,
    "scrolled": true
   },
   "outputs": [
    {
     "data": {
      "text/html": [
       "<div>\n",
       "<table border=\"1\" class=\"dataframe\">\n",
       "  <thead>\n",
       "    <tr style=\"text-align: right;\">\n",
       "      <th></th>\n",
       "      <th></th>\n",
       "      <th></th>\n",
       "      <th>24hr</th>\n",
       "    </tr>\n",
       "    <tr>\n",
       "      <th>month</th>\n",
       "      <th>7day</th>\n",
       "      <th>24hr</th>\n",
       "      <th></th>\n",
       "    </tr>\n",
       "  </thead>\n",
       "  <tbody>\n",
       "    <tr>\n",
       "      <th rowspan=\"2\" valign=\"top\">0</th>\n",
       "      <th rowspan=\"2\" valign=\"top\">3</th>\n",
       "      <th>3</th>\n",
       "      <td>1</td>\n",
       "    </tr>\n",
       "    <tr>\n",
       "      <th>4</th>\n",
       "      <td>1</td>\n",
       "    </tr>\n",
       "    <tr>\n",
       "      <th rowspan=\"4\" valign=\"top\">1</th>\n",
       "      <th rowspan=\"3\" valign=\"top\">3</th>\n",
       "      <th>3</th>\n",
       "      <td>2</td>\n",
       "    </tr>\n",
       "    <tr>\n",
       "      <th>5</th>\n",
       "      <td>2</td>\n",
       "    </tr>\n",
       "    <tr>\n",
       "      <th>20</th>\n",
       "      <td>1</td>\n",
       "    </tr>\n",
       "    <tr>\n",
       "      <th>4</th>\n",
       "      <th>4</th>\n",
       "      <td>1</td>\n",
       "    </tr>\n",
       "    <tr>\n",
       "      <th rowspan=\"6\" valign=\"top\">2</th>\n",
       "      <th>0</th>\n",
       "      <th>2</th>\n",
       "      <td>1</td>\n",
       "    </tr>\n",
       "    <tr>\n",
       "      <th>2</th>\n",
       "      <th>21</th>\n",
       "      <td>1</td>\n",
       "    </tr>\n",
       "    <tr>\n",
       "      <th rowspan=\"3\" valign=\"top\">3</th>\n",
       "      <th>3</th>\n",
       "      <td>1</td>\n",
       "    </tr>\n",
       "    <tr>\n",
       "      <th>4</th>\n",
       "      <td>1</td>\n",
       "    </tr>\n",
       "    <tr>\n",
       "      <th>5</th>\n",
       "      <td>2</td>\n",
       "    </tr>\n",
       "    <tr>\n",
       "      <th>4</th>\n",
       "      <th>3</th>\n",
       "      <td>1</td>\n",
       "    </tr>\n",
       "    <tr>\n",
       "      <th rowspan=\"7\" valign=\"top\">3</th>\n",
       "      <th>0</th>\n",
       "      <th>22</th>\n",
       "      <td>1</td>\n",
       "    </tr>\n",
       "    <tr>\n",
       "      <th rowspan=\"3\" valign=\"top\">1</th>\n",
       "      <th>1</th>\n",
       "      <td>1</td>\n",
       "    </tr>\n",
       "    <tr>\n",
       "      <th>4</th>\n",
       "      <td>1</td>\n",
       "    </tr>\n",
       "    <tr>\n",
       "      <th>19</th>\n",
       "      <td>1</td>\n",
       "    </tr>\n",
       "    <tr>\n",
       "      <th>2</th>\n",
       "      <th>3</th>\n",
       "      <td>1</td>\n",
       "    </tr>\n",
       "    <tr>\n",
       "      <th rowspan=\"2\" valign=\"top\">3</th>\n",
       "      <th>5</th>\n",
       "      <td>1</td>\n",
       "    </tr>\n",
       "    <tr>\n",
       "      <th>7</th>\n",
       "      <td>1</td>\n",
       "    </tr>\n",
       "    <tr>\n",
       "      <th rowspan=\"12\" valign=\"top\">4</th>\n",
       "      <th>0</th>\n",
       "      <th>20</th>\n",
       "      <td>1</td>\n",
       "    </tr>\n",
       "    <tr>\n",
       "      <th rowspan=\"4\" valign=\"top\">2</th>\n",
       "      <th>3</th>\n",
       "      <td>1</td>\n",
       "    </tr>\n",
       "    <tr>\n",
       "      <th>19</th>\n",
       "      <td>1</td>\n",
       "    </tr>\n",
       "    <tr>\n",
       "      <th>21</th>\n",
       "      <td>1</td>\n",
       "    </tr>\n",
       "    <tr>\n",
       "      <th>23</th>\n",
       "      <td>1</td>\n",
       "    </tr>\n",
       "    <tr>\n",
       "      <th rowspan=\"5\" valign=\"top\">3</th>\n",
       "      <th>2</th>\n",
       "      <td>4</td>\n",
       "    </tr>\n",
       "    <tr>\n",
       "      <th>3</th>\n",
       "      <td>5</td>\n",
       "    </tr>\n",
       "    <tr>\n",
       "      <th>4</th>\n",
       "      <td>1</td>\n",
       "    </tr>\n",
       "    <tr>\n",
       "      <th>5</th>\n",
       "      <td>2</td>\n",
       "    </tr>\n",
       "    <tr>\n",
       "      <th>6</th>\n",
       "      <td>2</td>\n",
       "    </tr>\n",
       "    <tr>\n",
       "      <th rowspan=\"2\" valign=\"top\">6</th>\n",
       "      <th>2</th>\n",
       "      <td>1</td>\n",
       "    </tr>\n",
       "    <tr>\n",
       "      <th>4</th>\n",
       "      <td>1</td>\n",
       "    </tr>\n",
       "    <tr>\n",
       "      <th rowspan=\"9\" valign=\"top\">5</th>\n",
       "      <th>1</th>\n",
       "      <th>2</th>\n",
       "      <td>1</td>\n",
       "    </tr>\n",
       "    <tr>\n",
       "      <th rowspan=\"2\" valign=\"top\">2</th>\n",
       "      <th>4</th>\n",
       "      <td>1</td>\n",
       "    </tr>\n",
       "    <tr>\n",
       "      <th>21</th>\n",
       "      <td>1</td>\n",
       "    </tr>\n",
       "    <tr>\n",
       "      <th rowspan=\"3\" valign=\"top\">3</th>\n",
       "      <th>1</th>\n",
       "      <td>1</td>\n",
       "    </tr>\n",
       "    <tr>\n",
       "      <th>3</th>\n",
       "      <td>1</td>\n",
       "    </tr>\n",
       "    <tr>\n",
       "      <th>7</th>\n",
       "      <td>2</td>\n",
       "    </tr>\n",
       "    <tr>\n",
       "      <th rowspan=\"2\" valign=\"top\">4</th>\n",
       "      <th>2</th>\n",
       "      <td>1</td>\n",
       "    </tr>\n",
       "    <tr>\n",
       "      <th>4</th>\n",
       "      <td>1</td>\n",
       "    </tr>\n",
       "    <tr>\n",
       "      <th>6</th>\n",
       "      <th>1</th>\n",
       "      <td>2</td>\n",
       "    </tr>\n",
       "    <tr>\n",
       "      <th rowspan=\"5\" valign=\"top\">6</th>\n",
       "      <th rowspan=\"2\" valign=\"top\">0</th>\n",
       "      <th>4</th>\n",
       "      <td>2</td>\n",
       "    </tr>\n",
       "    <tr>\n",
       "      <th>19</th>\n",
       "      <td>1</td>\n",
       "    </tr>\n",
       "    <tr>\n",
       "      <th>3</th>\n",
       "      <th>2</th>\n",
       "      <td>2</td>\n",
       "    </tr>\n",
       "    <tr>\n",
       "      <th>5</th>\n",
       "      <th>23</th>\n",
       "      <td>1</td>\n",
       "    </tr>\n",
       "    <tr>\n",
       "      <th>6</th>\n",
       "      <th>21</th>\n",
       "      <td>1</td>\n",
       "    </tr>\n",
       "    <tr>\n",
       "      <th rowspan=\"5\" valign=\"top\">7</th>\n",
       "      <th>0</th>\n",
       "      <th>20</th>\n",
       "      <td>1</td>\n",
       "    </tr>\n",
       "    <tr>\n",
       "      <th rowspan=\"2\" valign=\"top\">2</th>\n",
       "      <th>4</th>\n",
       "      <td>1</td>\n",
       "    </tr>\n",
       "    <tr>\n",
       "      <th>20</th>\n",
       "      <td>1</td>\n",
       "    </tr>\n",
       "    <tr>\n",
       "      <th>3</th>\n",
       "      <th>3</th>\n",
       "      <td>1</td>\n",
       "    </tr>\n",
       "    <tr>\n",
       "      <th>4</th>\n",
       "      <th>20</th>\n",
       "      <td>1</td>\n",
       "    </tr>\n",
       "    <tr>\n",
       "      <th rowspan=\"2\" valign=\"top\">8</th>\n",
       "      <th>3</th>\n",
       "      <th>3</th>\n",
       "      <td>1</td>\n",
       "    </tr>\n",
       "    <tr>\n",
       "      <th>4</th>\n",
       "      <th>5</th>\n",
       "      <td>1</td>\n",
       "    </tr>\n",
       "    <tr>\n",
       "      <th>9</th>\n",
       "      <th>3</th>\n",
       "      <th>5</th>\n",
       "      <td>1</td>\n",
       "    </tr>\n",
       "    <tr>\n",
       "      <th>10</th>\n",
       "      <th>2</th>\n",
       "      <th>23</th>\n",
       "      <td>1</td>\n",
       "    </tr>\n",
       "    <tr>\n",
       "      <th>11</th>\n",
       "      <th>3</th>\n",
       "      <th>2</th>\n",
       "      <td>1</td>\n",
       "    </tr>\n",
       "  </tbody>\n",
       "</table>\n",
       "</div>"
      ],
      "text/plain": [
       "                 24hr\n",
       "month 7day 24hr      \n",
       "0     3    3        1\n",
       "           4        1\n",
       "1     3    3        2\n",
       "           5        2\n",
       "           20       1\n",
       "      4    4        1\n",
       "2     0    2        1\n",
       "      2    21       1\n",
       "      3    3        1\n",
       "           4        1\n",
       "           5        2\n",
       "      4    3        1\n",
       "3     0    22       1\n",
       "      1    1        1\n",
       "           4        1\n",
       "           19       1\n",
       "      2    3        1\n",
       "      3    5        1\n",
       "           7        1\n",
       "4     0    20       1\n",
       "      2    3        1\n",
       "           19       1\n",
       "           21       1\n",
       "           23       1\n",
       "      3    2        4\n",
       "           3        5\n",
       "           4        1\n",
       "           5        2\n",
       "           6        2\n",
       "      6    2        1\n",
       "           4        1\n",
       "5     1    2        1\n",
       "      2    4        1\n",
       "           21       1\n",
       "      3    1        1\n",
       "           3        1\n",
       "           7        2\n",
       "      4    2        1\n",
       "           4        1\n",
       "      6    1        2\n",
       "6     0    4        2\n",
       "           19       1\n",
       "      3    2        2\n",
       "      5    23       1\n",
       "      6    21       1\n",
       "7     0    20       1\n",
       "      2    4        1\n",
       "           20       1\n",
       "      3    3        1\n",
       "      4    20       1\n",
       "8     3    3        1\n",
       "      4    5        1\n",
       "9     3    5        1\n",
       "10    2    23       1\n",
       "11    3    2        1"
      ]
     },
     "execution_count": 299,
     "metadata": {},
     "output_type": "execute_result"
    }
   ],
   "source": [
    "data_2"
   ]
  },
  {
   "cell_type": "code",
   "execution_count": 260,
   "metadata": {
    "collapsed": false
   },
   "outputs": [
    {
     "data": {
      "text/plain": [
       "[<matplotlib.lines.Line2D at 0x2c8657e80>]"
      ]
     },
     "execution_count": 260,
     "metadata": {},
     "output_type": "execute_result"
    },
    {
     "data": {
      "image/png": "[encoded data removed]",
      "text/plain": [
       "<matplotlib.figure.Figure at 0x2c7de6860>"
      ]
     },
     "metadata": {},
     "output_type": "display_data"
    }
   ],
   "source": [
    "plt.plot(data_2['24hr'],'*-')"
   ]
  },
  {
   "cell_type": "code",
   "execution_count": null,
   "metadata": {
    "collapsed": true
   },
   "outputs": [],
   "source": []
  }
 ],
 "metadata": {
  "kernelspec": {
   "display_name": "Python 2",
   "language": "python",
   "name": "python2"
  },
  "language_info": {
   "codemirror_mode": {
    "name": "ipython",
    "version": 2
   },
   "file_extension": ".py",
   "mimetype": "text/x-python",
   "name": "python",
   "nbconvert_exporter": "python",
   "pygments_lexer": "ipython2",
   "version": "2.7.11"
  }
 },
 "nbformat": 4,
 "nbformat_minor": 0
}
