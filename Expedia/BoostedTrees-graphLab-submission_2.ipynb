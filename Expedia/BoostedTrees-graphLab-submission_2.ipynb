{
 "cells": [
  {
   "cell_type": "markdown",
   "metadata": {},
   "source": [
    "Creating 3 boosted tress (via 3 fold cross validation). Sum the probabilities and pick the top 5.\n",
    "The hyper parameters were chosen based on a 1% of the data."
   ]
  },
  {
   "cell_type": "code",
   "execution_count": 1,
   "metadata": {
    "collapsed": false
   },
   "outputs": [],
   "source": [
    "import pandas as pd\n",
    "import numpy as np\n",
    "import graphlab as gl\n",
    "import cPickle as pkl\n",
    "import operator\n",
    "#from sklearn.externals import joblib"
   ]
  },
  {
   "cell_type": "code",
   "execution_count": 2,
   "metadata": {
    "collapsed": true
   },
   "outputs": [],
   "source": [
    "cols = ['site_name', u'posa_continent','user_location_country', u'user_location_region',\n",
    "         u'user_location_city', u'is_mobile', u'is_package', u'channel', \n",
    "         u'srch_destination_id','hotel_cluster', u'srch_destination_type_id', u'B_Weekday',\n",
    "         u'B_Hour',  u'C_weekofYear', u'adv_days', u'duration',\n",
    "         u'srch_adults_cnt', u'srch_children_cnt', u'srch_rm_cnt']"
   ]
  },
  {
   "cell_type": "code",
   "execution_count": 3,
   "metadata": {
    "collapsed": true
   },
   "outputs": [],
   "source": [
    "# Transform the dates\n",
    "def transform_dates(data):    \n",
    "    data['B_Hour'] = data['date_time'].dt.hour\n",
    "    data['B_Weekday'] = data['date_time'].dt.weekday\n",
    "    data['C_weekofYear'] = data['srch_ci'].dt.day\n",
    "    data['duration'] = (data['srch_co'] - data['srch_ci']).dt.days\n",
    "    # Remove time stamp but retain the dates\n",
    "    data['date_time'] = data['date_time'].dt.normalize()\n",
    "    data['adv_days'] = (data['srch_ci'] - data['date_time']).dt.days\n",
    "    \n",
    "    return data"
   ]
  },
  {
   "cell_type": "code",
   "execution_count": 4,
   "metadata": {
    "collapsed": true
   },
   "outputs": [],
   "source": [
    "# Drop columns\n",
    "def drop_Cols(data):\n",
    "    drop_columns = ['date_time','user_id', 'srch_ci', 'srch_co']\n",
    "    if 'is_booking' in data.columns:\n",
    "        drop_columns.append('is_booking')\n",
    "    if 'cnt' in data.columns:\n",
    "        drop_columns.append('cnt')\n",
    "    \n",
    "    data = data.drop(drop_columns,axis=1)\n",
    "    \n",
    "    return data"
   ]
  },
  {
   "cell_type": "code",
   "execution_count": 5,
   "metadata": {
    "collapsed": true
   },
   "outputs": [],
   "source": [
    "def reorderCols(data):\n",
    "    # ReOrder Columns\n",
    "    new_order = cols\n",
    "    if 'hotel_cluster' not in data.columns:\n",
    "        new_order.remove('hotel_cluster')\n",
    "    data = data[new_order]\n",
    "    \n",
    "    return data"
   ]
  },
  {
   "cell_type": "code",
   "execution_count": 7,
   "metadata": {
    "collapsed": true
   },
   "outputs": [],
   "source": [
    "col_type = {}\n",
    "for i,col in enumerate(cols):\n",
    "    if i < 14:\n",
    "        col_type[col] = 'str'"
   ]
  },
  {
   "cell_type": "code",
   "execution_count": 8,
   "metadata": {
    "collapsed": false
   },
   "outputs": [],
   "source": [
    "data_booked = pd.read_csv('booked.csv',dtype=col_type,parse_dates=['date_time','srch_ci','srch_co'],\n",
    "                          infer_datetime_format=True)"
   ]
  },
  {
   "cell_type": "code",
   "execution_count": 9,
   "metadata": {
    "collapsed": true
   },
   "outputs": [],
   "source": [
    "data_booked = reorderCols(drop_Cols(transform_dates(data_booked)))\n",
    "data_booked[['B_Weekday','B_Hour','C_weekofYear']] = data_booked[['B_Weekday','B_Hour','C_weekofYear']].astype(str)"
   ]
  },
  {
   "cell_type": "raw",
   "metadata": {
    "collapsed": false
   },
   "source": [
    "data_train_sample = data_booked.sample(frac=0.01,random_state=99)\n",
    "data_validation_sample = data_booked.sample(frac=0.01,random_state=101)"
   ]
  },
  {
   "cell_type": "raw",
   "metadata": {
    "collapsed": false
   },
   "source": [
    "data_train_sample = reorderCols(drop_Cols(transform_dates(data_train_sample)))\n",
    "data_train_sample[['B_Weekday','B_Hour','C_weekofYear']] = data_train_sample[['B_Weekday','B_Hour','C_weekofYear']].astype(str)"
   ]
  },
  {
   "cell_type": "raw",
   "metadata": {
    "collapsed": true
   },
   "source": [
    "data_validation_sample = reorderCols(drop_Cols(transform_dates(data_validation_sample)))\n",
    "data_validation_sample[['B_Weekday','B_Hour','C_weekofYear']] = data_validation_sample[['B_Weekday','B_Hour','C_weekofYear']].astype(str)"
   ]
  },
  {
   "cell_type": "code",
   "execution_count": 10,
   "metadata": {
    "collapsed": false
   },
   "outputs": [
    {
     "name": "stderr",
     "output_type": "stream",
     "text": [
      "C:\\Users\\Shetty\\Anaconda\\lib\\site-packages\\pandas\\core\\indexing.py:117: SettingWithCopyWarning: \n",
      "A value is trying to be set on a copy of a slice from a DataFrame\n",
      "\n",
      "See the caveats in the documentation: http://pandas.pydata.org/pandas-docs/stable/indexing.html#indexing-view-versus-copy\n",
      "  self._setitem_with_indexer(indexer, value)\n"
     ]
    }
   ],
   "source": [
    "data_test = pd.read_csv('original_data/test.csv',dtype=col_type,parse_dates=['date_time','srch_ci','srch_co'],\n",
    "                          infer_datetime_format=True)\n",
    "# Fix Errors\n",
    "data_test.srch_ci = pd.to_datetime(data_test.srch_ci,errors='coerce')\n",
    "ind = data_test.srch_ci[data_test.srch_ci.isnull()==True].index\n",
    "# Replace with most common date\n",
    "data_test.srch_ci.ix[ind] = data_test.srch_ci.describe()['top'].date()\n",
    "\n",
    "# And with srch_co\n",
    "ind = data_test.srch_co[data_test.srch_co.isnull()==True].index\n",
    "data_test.srch_co.ix[ind] = data_test.srch_co.describe()['top'].date()"
   ]
  },
  {
   "cell_type": "code",
   "execution_count": 11,
   "metadata": {
    "collapsed": true
   },
   "outputs": [],
   "source": [
    "data_test = reorderCols(drop_Cols(transform_dates(data_test)))\n",
    "data_test[['B_Weekday','B_Hour','C_weekofYear']] = data_test[['B_Weekday','B_Hour','C_weekofYear']].astype(str)"
   ]
  },
  {
   "cell_type": "raw",
   "metadata": {
    "collapsed": true
   },
   "source": [
    "del data_booked"
   ]
  },
  {
   "cell_type": "raw",
   "metadata": {
    "collapsed": false
   },
   "source": [
    "sf_train = gl.SFrame(data_train_sample)\n",
    "del data_train_sample\n",
    "sf_validation = gl.SFrame(data_validation_sample)\n",
    "del data_validation_sample"
   ]
  },
  {
   "cell_type": "raw",
   "metadata": {
    "collapsed": true
   },
   "source": [
    "sf_test = gl.SFrame(data_test)"
   ]
  },
  {
   "cell_type": "raw",
   "metadata": {
    "collapsed": false,
    "scrolled": true
   },
   "source": [
    "del data_booked, data_test"
   ]
  },
  {
   "cell_type": "raw",
   "metadata": {
    "collapsed": false
   },
   "source": [
    "params = {'target': 'hotel_cluster',\n",
    "          'class_weights': 'auto',\n",
    "          'max_depth': [3, 4, 6, 8, 10, 12, 18],\n",
    "          'max_iterations': [10, 20, 50],\n",
    "          'min_loss_reduction': [0, 2, 5, 8],\n",
    "          'step_size': [0.05, 0.1, .2, .3, 0.5],\n",
    "          'column_subsample': [.6, .8, 1.0],\n",
    "          'row_subsample': [.6, .8, 1.0],\n",
    "          'min_child_weight': [0.1, 2, 5, 8]\n",
    "         }"
   ]
  },
  {
   "cell_type": "raw",
   "metadata": {
    "collapsed": false
   },
   "source": [
    "ec2_job = gl.random_search.create((sf_train, sf_validation), gl.boosted_trees_classifier.create, params, max_models=50)"
   ]
  },
  {
   "cell_type": "raw",
   "metadata": {
    "collapsed": false
   },
   "source": [
    "params_chosen = ec2_job.get_best_params()"
   ]
  },
  {
   "cell_type": "raw",
   "metadata": {
    "collapsed": false
   },
   "source": [
    "import cPickle as pkl\n",
    "\n",
    "with open('parma_best.pickle','wb') as f:\n",
    "    pkl.dump(params_chosen,f)"
   ]
  },
  {
   "cell_type": "code",
   "execution_count": 12,
   "metadata": {
    "collapsed": true
   },
   "outputs": [],
   "source": [
    "with open('parma_best.pickle','rb') as f:\n",
    "    params_best = pkl.load(f)"
   ]
  },
  {
   "cell_type": "code",
   "execution_count": 13,
   "metadata": {
    "collapsed": false
   },
   "outputs": [
    {
     "name": "stderr",
     "output_type": "stream",
     "text": [
      "[INFO] graphlab.cython.cy_server: GraphLab Create v1.10.1 started. Logging: C:\\Users\\Shetty\\AppData\\Local\\Temp\\graphlab_server_1465587779.log.0\n",
      "INFO:graphlab.cython.cy_server:GraphLab Create v1.10.1 started. Logging: C:\\Users\\Shetty\\AppData\\Local\\Temp\\graphlab_server_1465587779.log.0\n"
     ]
    },
    {
     "name": "stdout",
     "output_type": "stream",
     "text": [
      "This non-commercial license of GraphLab Create is assigned to vedshetty@yahoo.com and will expire on November 17, 2016. For commercial licensing options, visit https://dato.com/buy/.\n"
     ]
    }
   ],
   "source": [
    "sf_full_train = gl.SFrame(data_booked)\n",
    "del data_booked\n",
    "sf_full_test = gl.SFrame(data_test)\n",
    "del data_test"
   ]
  },
  {
   "cell_type": "code",
   "execution_count": 14,
   "metadata": {
    "collapsed": false
   },
   "outputs": [],
   "source": [
    "kFold_split = gl.cross_validation.KFold(sf_full_train,3)"
   ]
  },
  {
   "cell_type": "raw",
   "metadata": {},
   "source": [
    "del sf_full_train,sf_train, sf_validation"
   ]
  },
  {
   "cell_type": "code",
   "execution_count": 15,
   "metadata": {
    "collapsed": false
   },
   "outputs": [
    {
     "data": {
      "text/html": [
       "<pre>Boosted trees classifier:</pre>"
      ],
      "text/plain": [
       "Boosted trees classifier:"
      ]
     },
     "metadata": {},
     "output_type": "display_data"
    },
    {
     "data": {
      "text/html": [
       "<pre>--------------------------------------------------------</pre>"
      ],
      "text/plain": [
       "--------------------------------------------------------"
      ]
     },
     "metadata": {},
     "output_type": "display_data"
    },
    {
     "data": {
      "text/html": [
       "<pre>Number of examples          : 2000459</pre>"
      ],
      "text/plain": [
       "Number of examples          : 2000459"
      ]
     },
     "metadata": {},
     "output_type": "display_data"
    },
    {
     "data": {
      "text/html": [
       "<pre>Number of classes           : 100</pre>"
      ],
      "text/plain": [
       "Number of classes           : 100"
      ]
     },
     "metadata": {},
     "output_type": "display_data"
    },
    {
     "data": {
      "text/html": [
       "<pre>Number of feature columns   : 18</pre>"
      ],
      "text/plain": [
       "Number of feature columns   : 18"
      ]
     },
     "metadata": {},
     "output_type": "display_data"
    },
    {
     "data": {
      "text/html": [
       "<pre>Number of unpacked features : 18</pre>"
      ],
      "text/plain": [
       "Number of unpacked features : 18"
      ]
     },
     "metadata": {},
     "output_type": "display_data"
    },
    {
     "data": {
      "text/html": [
       "<pre>+-----------+--------------+-------------------+-------------------+</pre>"
      ],
      "text/plain": [
       "+-----------+--------------+-------------------+-------------------+"
      ]
     },
     "metadata": {},
     "output_type": "display_data"
    },
    {
     "data": {
      "text/html": [
       "<pre>| Iteration | Elapsed Time | Training-accuracy | Training-log_loss |</pre>"
      ],
      "text/plain": [
       "| Iteration | Elapsed Time | Training-accuracy | Training-log_loss |"
      ]
     },
     "metadata": {},
     "output_type": "display_data"
    },
    {
     "data": {
      "text/html": [
       "<pre>+-----------+--------------+-------------------+-------------------+</pre>"
      ],
      "text/plain": [
       "+-----------+--------------+-------------------+-------------------+"
      ]
     },
     "metadata": {},
     "output_type": "display_data"
    },
    {
     "data": {
      "text/html": [
       "<pre>| 1         | 615.674747   | 0.102624          | 4.202234          |</pre>"
      ],
      "text/plain": [
       "| 1         | 615.674747   | 0.102624          | 4.202234          |"
      ]
     },
     "metadata": {},
     "output_type": "display_data"
    },
    {
     "data": {
      "text/html": [
       "<pre>| 2         | 1117.118483  | 0.108519          | 4.072475          |</pre>"
      ],
      "text/plain": [
       "| 2         | 1117.118483  | 0.108519          | 4.072475          |"
      ]
     },
     "metadata": {},
     "output_type": "display_data"
    },
    {
     "data": {
      "text/html": [
       "<pre>| 3         | 1504.863344  | 0.114523          | 3.996118          |</pre>"
      ],
      "text/plain": [
       "| 3         | 1504.863344  | 0.114523          | 3.996118          |"
      ]
     },
     "metadata": {},
     "output_type": "display_data"
    },
    {
     "data": {
      "text/html": [
       "<pre>| 4         | 1728.268635  | 0.118917          | 3.943495          |</pre>"
      ],
      "text/plain": [
       "| 4         | 1728.268635  | 0.118917          | 3.943495          |"
      ]
     },
     "metadata": {},
     "output_type": "display_data"
    },
    {
     "data": {
      "text/html": [
       "<pre>| 5         | 1955.514867  | 0.122366          | 3.902732          |</pre>"
      ],
      "text/plain": [
       "| 5         | 1955.514867  | 0.122366          | 3.902732          |"
      ]
     },
     "metadata": {},
     "output_type": "display_data"
    },
    {
     "data": {
      "text/html": [
       "<pre>| 6         | 2168.507992  | 0.125517          | 3.871500          |</pre>"
      ],
      "text/plain": [
       "| 6         | 2168.507992  | 0.125517          | 3.871500          |"
      ]
     },
     "metadata": {},
     "output_type": "display_data"
    },
    {
     "data": {
      "text/html": [
       "<pre>| 7         | 2357.114706  | 0.129197          | 3.845429          |</pre>"
      ],
      "text/plain": [
       "| 7         | 2357.114706  | 0.129197          | 3.845429          |"
      ]
     },
     "metadata": {},
     "output_type": "display_data"
    },
    {
     "data": {
      "text/html": [
       "<pre>| 8         | 2547.903189  | 0.131972          | 3.823662          |</pre>"
      ],
      "text/plain": [
       "| 8         | 2547.903189  | 0.131972          | 3.823662          |"
      ]
     },
     "metadata": {},
     "output_type": "display_data"
    },
    {
     "data": {
      "text/html": [
       "<pre>| 9         | 2744.039286  | 0.133906          | 3.804811          |</pre>"
      ],
      "text/plain": [
       "| 9         | 2744.039286  | 0.133906          | 3.804811          |"
      ]
     },
     "metadata": {},
     "output_type": "display_data"
    },
    {
     "data": {
      "text/html": [
       "<pre>| 10        | 2923.018975  | 0.135510          | 3.788592          |</pre>"
      ],
      "text/plain": [
       "| 10        | 2923.018975  | 0.135510          | 3.788592          |"
      ]
     },
     "metadata": {},
     "output_type": "display_data"
    },
    {
     "data": {
      "text/html": [
       "<pre>+-----------+--------------+-------------------+-------------------+</pre>"
      ],
      "text/plain": [
       "+-----------+--------------+-------------------+-------------------+"
      ]
     },
     "metadata": {},
     "output_type": "display_data"
    },
    {
     "data": {
      "text/html": [
       "<pre>Boosted trees classifier:</pre>"
      ],
      "text/plain": [
       "Boosted trees classifier:"
      ]
     },
     "metadata": {},
     "output_type": "display_data"
    },
    {
     "data": {
      "text/html": [
       "<pre>--------------------------------------------------------</pre>"
      ],
      "text/plain": [
       "--------------------------------------------------------"
      ]
     },
     "metadata": {},
     "output_type": "display_data"
    },
    {
     "data": {
      "text/html": [
       "<pre>Number of examples          : 2000459</pre>"
      ],
      "text/plain": [
       "Number of examples          : 2000459"
      ]
     },
     "metadata": {},
     "output_type": "display_data"
    },
    {
     "data": {
      "text/html": [
       "<pre>Number of classes           : 100</pre>"
      ],
      "text/plain": [
       "Number of classes           : 100"
      ]
     },
     "metadata": {},
     "output_type": "display_data"
    },
    {
     "data": {
      "text/html": [
       "<pre>Number of feature columns   : 18</pre>"
      ],
      "text/plain": [
       "Number of feature columns   : 18"
      ]
     },
     "metadata": {},
     "output_type": "display_data"
    },
    {
     "data": {
      "text/html": [
       "<pre>Number of unpacked features : 18</pre>"
      ],
      "text/plain": [
       "Number of unpacked features : 18"
      ]
     },
     "metadata": {},
     "output_type": "display_data"
    },
    {
     "data": {
      "text/html": [
       "<pre>+-----------+--------------+-------------------+-------------------+</pre>"
      ],
      "text/plain": [
       "+-----------+--------------+-------------------+-------------------+"
      ]
     },
     "metadata": {},
     "output_type": "display_data"
    },
    {
     "data": {
      "text/html": [
       "<pre>| Iteration | Elapsed Time | Training-accuracy | Training-log_loss |</pre>"
      ],
      "text/plain": [
       "| Iteration | Elapsed Time | Training-accuracy | Training-log_loss |"
      ]
     },
     "metadata": {},
     "output_type": "display_data"
    },
    {
     "data": {
      "text/html": [
       "<pre>+-----------+--------------+-------------------+-------------------+</pre>"
      ],
      "text/plain": [
       "+-----------+--------------+-------------------+-------------------+"
      ]
     },
     "metadata": {},
     "output_type": "display_data"
    },
    {
     "data": {
      "text/html": [
       "<pre>| 1         | 199.304901   | 0.098712          | 4.214301          |</pre>"
      ],
      "text/plain": [
       "| 1         | 199.304901   | 0.098712          | 4.214301          |"
      ]
     },
     "metadata": {},
     "output_type": "display_data"
    },
    {
     "data": {
      "text/html": [
       "<pre>| 2         | 385.552248   | 0.108827          | 4.081674          |</pre>"
      ],
      "text/plain": [
       "| 2         | 385.552248   | 0.108827          | 4.081674          |"
      ]
     },
     "metadata": {},
     "output_type": "display_data"
    },
    {
     "data": {
      "text/html": [
       "<pre>| 3         | 564.950782   | 0.114074          | 3.991708          |</pre>"
      ],
      "text/plain": [
       "| 3         | 564.950782   | 0.114074          | 3.991708          |"
      ]
     },
     "metadata": {},
     "output_type": "display_data"
    },
    {
     "data": {
      "text/html": [
       "<pre>| 4         | 752.321791   | 0.117635          | 3.937777          |</pre>"
      ],
      "text/plain": [
       "| 4         | 752.321791   | 0.117635          | 3.937777          |"
      ]
     },
     "metadata": {},
     "output_type": "display_data"
    },
    {
     "data": {
      "text/html": [
       "<pre>| 5         | 935.678478   | 0.120845          | 3.896776          |</pre>"
      ],
      "text/plain": [
       "| 5         | 935.678478   | 0.120845          | 3.896776          |"
      ]
     },
     "metadata": {},
     "output_type": "display_data"
    },
    {
     "data": {
      "text/html": [
       "<pre>| 6         | 1113.669712  | 0.124624          | 3.865493          |</pre>"
      ],
      "text/plain": [
       "| 6         | 1113.669712  | 0.124624          | 3.865493          |"
      ]
     },
     "metadata": {},
     "output_type": "display_data"
    },
    {
     "data": {
      "text/html": [
       "<pre>| 7         | 1305.489575  | 0.128397          | 3.839625          |</pre>"
      ],
      "text/plain": [
       "| 7         | 1305.489575  | 0.128397          | 3.839625          |"
      ]
     },
     "metadata": {},
     "output_type": "display_data"
    },
    {
     "data": {
      "text/html": [
       "<pre>| 8         | 1488.631047  | 0.131320          | 3.817631          |</pre>"
      ],
      "text/plain": [
       "| 8         | 1488.631047  | 0.131320          | 3.817631          |"
      ]
     },
     "metadata": {},
     "output_type": "display_data"
    },
    {
     "data": {
      "text/html": [
       "<pre>| 9         | 1677.215994  | 0.134110          | 3.798600          |</pre>"
      ],
      "text/plain": [
       "| 9         | 1677.215994  | 0.134110          | 3.798600          |"
      ]
     },
     "metadata": {},
     "output_type": "display_data"
    },
    {
     "data": {
      "text/html": [
       "<pre>| 10        | 1855.192355  | 0.135877          | 3.782485          |</pre>"
      ],
      "text/plain": [
       "| 10        | 1855.192355  | 0.135877          | 3.782485          |"
      ]
     },
     "metadata": {},
     "output_type": "display_data"
    },
    {
     "data": {
      "text/html": [
       "<pre>+-----------+--------------+-------------------+-------------------+</pre>"
      ],
      "text/plain": [
       "+-----------+--------------+-------------------+-------------------+"
      ]
     },
     "metadata": {},
     "output_type": "display_data"
    },
    {
     "data": {
      "text/html": [
       "<pre>Boosted trees classifier:</pre>"
      ],
      "text/plain": [
       "Boosted trees classifier:"
      ]
     },
     "metadata": {},
     "output_type": "display_data"
    },
    {
     "data": {
      "text/html": [
       "<pre>--------------------------------------------------------</pre>"
      ],
      "text/plain": [
       "--------------------------------------------------------"
      ]
     },
     "metadata": {},
     "output_type": "display_data"
    },
    {
     "data": {
      "text/html": [
       "<pre>Number of examples          : 2000460</pre>"
      ],
      "text/plain": [
       "Number of examples          : 2000460"
      ]
     },
     "metadata": {},
     "output_type": "display_data"
    },
    {
     "data": {
      "text/html": [
       "<pre>Number of classes           : 100</pre>"
      ],
      "text/plain": [
       "Number of classes           : 100"
      ]
     },
     "metadata": {},
     "output_type": "display_data"
    },
    {
     "data": {
      "text/html": [
       "<pre>Number of feature columns   : 18</pre>"
      ],
      "text/plain": [
       "Number of feature columns   : 18"
      ]
     },
     "metadata": {},
     "output_type": "display_data"
    },
    {
     "data": {
      "text/html": [
       "<pre>Number of unpacked features : 18</pre>"
      ],
      "text/plain": [
       "Number of unpacked features : 18"
      ]
     },
     "metadata": {},
     "output_type": "display_data"
    },
    {
     "data": {
      "text/html": [
       "<pre>+-----------+--------------+-------------------+-------------------+</pre>"
      ],
      "text/plain": [
       "+-----------+--------------+-------------------+-------------------+"
      ]
     },
     "metadata": {},
     "output_type": "display_data"
    },
    {
     "data": {
      "text/html": [
       "<pre>| Iteration | Elapsed Time | Training-accuracy | Training-log_loss |</pre>"
      ],
      "text/plain": [
       "| Iteration | Elapsed Time | Training-accuracy | Training-log_loss |"
      ]
     },
     "metadata": {},
     "output_type": "display_data"
    },
    {
     "data": {
      "text/html": [
       "<pre>+-----------+--------------+-------------------+-------------------+</pre>"
      ],
      "text/plain": [
       "+-----------+--------------+-------------------+-------------------+"
      ]
     },
     "metadata": {},
     "output_type": "display_data"
    },
    {
     "data": {
      "text/html": [
       "<pre>| 1         | 190.956284   | 0.100579          | 4.217906          |</pre>"
      ],
      "text/plain": [
       "| 1         | 190.956284   | 0.100579          | 4.217906          |"
      ]
     },
     "metadata": {},
     "output_type": "display_data"
    },
    {
     "data": {
      "text/html": [
       "<pre>| 2         | 386.978796   | 0.104982          | 4.083102          |</pre>"
      ],
      "text/plain": [
       "| 2         | 386.978796   | 0.104982          | 4.083102          |"
      ]
     },
     "metadata": {},
     "output_type": "display_data"
    },
    {
     "data": {
      "text/html": [
       "<pre>| 3         | 599.530380   | 0.110011          | 4.008030          |</pre>"
      ],
      "text/plain": [
       "| 3         | 599.530380   | 0.110011          | 4.008030          |"
      ]
     },
     "metadata": {},
     "output_type": "display_data"
    },
    {
     "data": {
      "text/html": [
       "<pre>| 4         | 809.365641   | 0.114469          | 3.957700          |</pre>"
      ],
      "text/plain": [
       "| 4         | 809.365641   | 0.114469          | 3.957700          |"
      ]
     },
     "metadata": {},
     "output_type": "display_data"
    },
    {
     "data": {
      "text/html": [
       "<pre>| 5         | 1021.374809  | 0.120049          | 3.918841          |</pre>"
      ],
      "text/plain": [
       "| 5         | 1021.374809  | 0.120049          | 3.918841          |"
      ]
     },
     "metadata": {},
     "output_type": "display_data"
    },
    {
     "data": {
      "text/html": [
       "<pre>| 6         | 1221.332567  | 0.123572          | 3.877690          |</pre>"
      ],
      "text/plain": [
       "| 6         | 1221.332567  | 0.123572          | 3.877690          |"
      ]
     },
     "metadata": {},
     "output_type": "display_data"
    },
    {
     "data": {
      "text/html": [
       "<pre>| 7         | 1420.102532  | 0.126721          | 3.848890          |</pre>"
      ],
      "text/plain": [
       "| 7         | 1420.102532  | 0.126721          | 3.848890          |"
      ]
     },
     "metadata": {},
     "output_type": "display_data"
    },
    {
     "data": {
      "text/html": [
       "<pre>| 8         | 1617.480106  | 0.130157          | 3.825990          |</pre>"
      ],
      "text/plain": [
       "| 8         | 1617.480106  | 0.130157          | 3.825990          |"
      ]
     },
     "metadata": {},
     "output_type": "display_data"
    },
    {
     "data": {
      "text/html": [
       "<pre>| 9         | 1823.441104  | 0.132961          | 3.806735          |</pre>"
      ],
      "text/plain": [
       "| 9         | 1823.441104  | 0.132961          | 3.806735          |"
      ]
     },
     "metadata": {},
     "output_type": "display_data"
    },
    {
     "data": {
      "text/html": [
       "<pre>| 10        | 2028.616605  | 0.135653          | 3.790183          |</pre>"
      ],
      "text/plain": [
       "| 10        | 2028.616605  | 0.135653          | 3.790183          |"
      ]
     },
     "metadata": {},
     "output_type": "display_data"
    },
    {
     "data": {
      "text/html": [
       "<pre>+-----------+--------------+-------------------+-------------------+</pre>"
      ],
      "text/plain": [
       "+-----------+--------------+-------------------+-------------------+"
      ]
     },
     "metadata": {},
     "output_type": "display_data"
    }
   ],
   "source": [
    "for i,(train,_) in enumerate(kFold_split):\n",
    "    model = gl.boosted_trees_classifier.create(train,validation_set=None,**params_best)\n",
    "    sf_predict = model.predict_topk(sf_full_test,k=5)\n",
    "    fname = 'gl_boost_' + str(i)\n",
    "    sf_predict.save(fname)"
   ]
  },
  {
   "cell_type": "code",
   "execution_count": 18,
   "metadata": {
    "collapsed": true
   },
   "outputs": [],
   "source": [
    "data1 = gl.load_sframe('gl_boost_0/')\n",
    "data2 = gl.load_sframe('gl_boost_1/')\n",
    "data3 = gl.load_sframe('gl_boost_2/')"
   ]
  },
  {
   "cell_type": "code",
   "execution_count": 28,
   "metadata": {
    "collapsed": false
   },
   "outputs": [
    {
     "name": "stdout",
     "output_type": "stream",
     "text": [
      "+----+-------+-----------------+\n",
      "| id | class |   probability   |\n",
      "+----+-------+-----------------+\n",
      "| 0  |   44  | 0.0272819083184 |\n",
      "| 0  |   93  |  0.026366751641 |\n",
      "| 0  |   90  | 0.0244428925216 |\n",
      "| 0  |   67  | 0.0243551433086 |\n",
      "| 0  |   22  | 0.0242601949722 |\n",
      "| 1  |   93  | 0.0240532513708 |\n",
      "| 1  |   90  | 0.0204251669347 |\n",
      "| 1  |   86  | 0.0195579454303 |\n",
      "| 1  |   92  | 0.0192906558514 |\n",
      "| 1  |   73  | 0.0192765835673 |\n",
      "+----+-------+-----------------+\n",
      "[10 rows x 3 columns]\n",
      " +----+-------+-----------------+\n",
      "| id | class |   probability   |\n",
      "+----+-------+-----------------+\n",
      "| 0  |   58  | 0.0275340694934 |\n",
      "| 0  |   90  | 0.0262247417122 |\n",
      "| 0  |   22  | 0.0235852543265 |\n",
      "| 0  |   44  | 0.0235495232046 |\n",
      "| 0  |   86  | 0.0215876009315 |\n",
      "| 1  |   90  | 0.0218421667814 |\n",
      "| 1  |   93  | 0.0216993335634 |\n",
      "| 1  |   92  | 0.0193369742483 |\n",
      "| 1  |   86  |  0.01916542463  |\n",
      "| 1  |   58  | 0.0178132709116 |\n",
      "+----+-------+-----------------+\n",
      "[10 rows x 3 columns]\n",
      " +----+-------+-----------------+\n",
      "| id | class |   probability   |\n",
      "+----+-------+-----------------+\n",
      "| 0  |   22  | 0.0273004993796 |\n",
      "| 0  |   67  | 0.0268521271646 |\n",
      "| 0  |   92  | 0.0263596978039 |\n",
      "| 0  |   90  | 0.0257992595434 |\n",
      "| 0  |   93  | 0.0245586689562 |\n",
      "| 1  |   92  | 0.0231684017926 |\n",
      "| 1  |   90  | 0.0231155604124 |\n",
      "| 1  |   93  | 0.0220057629049 |\n",
      "| 1  |   86  | 0.0192213337868 |\n",
      "| 1  |   73  | 0.0169028453529 |\n",
      "+----+-------+-----------------+\n",
      "[10 rows x 3 columns]\n",
      "\n"
     ]
    }
   ],
   "source": [
    "print data1.head(),data2.head(),data3.head()"
   ]
  },
  {
   "cell_type": "code",
   "execution_count": 26,
   "metadata": {
    "collapsed": false
   },
   "outputs": [],
   "source": [
    "data1 = data1.sort([('id',True),('probability',False)])\n",
    "data2 = data2.sort([('id',True),('probability',False)])\n",
    "data3 = data3.sort([('id',True),('probability',False)])"
   ]
  },
  {
   "cell_type": "code",
   "execution_count": 27,
   "metadata": {
    "collapsed": false
   },
   "outputs": [],
   "source": [
    "data1.save('gl_boost_0/')\n",
    "data2.save('gl_boost_1/')\n",
    "data3.save('gl_boost_2/')"
   ]
  },
  {
   "cell_type": "code",
   "execution_count": 170,
   "metadata": {
    "collapsed": false
   },
   "outputs": [],
   "source": [
    "# Append data from all three predictions\n",
    "data1_3 = data1.append(data2.append(data3))"
   ]
  },
  {
   "cell_type": "code",
   "execution_count": 171,
   "metadata": {
    "collapsed": false
   },
   "outputs": [],
   "source": [
    "# Sum the probabilites by id and class\n",
    "data1_3 = data1_3.groupby(['id','class'],operations={'Agg':gl.aggregate.SUM('probability')})"
   ]
  },
  {
   "cell_type": "code",
   "execution_count": 173,
   "metadata": {
    "collapsed": false
   },
   "outputs": [],
   "source": [
    "# Create a dict for each id.\n",
    "data1_4 = data1_3.groupby('id',operations={'class_prob':gl.aggregate.CONCAT('class', 'Agg')})"
   ]
  },
  {
   "cell_type": "code",
   "execution_count": 192,
   "metadata": {
    "collapsed": false
   },
   "outputs": [
    {
     "data": {
      "text/html": [
       "<div style=\"max-height:1000px;max-width:1500px;overflow:auto;\"><table frame=\"box\" rules=\"cols\">\n",
       "    <tr>\n",
       "        <th style=\"padding-left: 1em; padding-right: 1em; text-align: center\">id</th>\n",
       "        <th style=\"padding-left: 1em; padding-right: 1em; text-align: center\">class_prob</th>\n",
       "    </tr>\n",
       "    <tr>\n",
       "        <td style=\"padding-left: 1em; padding-right: 1em; text-align: center; vertical-align: top\">0</td>\n",
       "        <td style=\"padding-left: 1em; padding-right: 1em; text-align: center; vertical-align: top\">{'58':<br>0.02753406949341297, ...</td>\n",
       "    </tr>\n",
       "    <tr>\n",
       "        <td style=\"padding-left: 1em; padding-right: 1em; text-align: center; vertical-align: top\">1</td>\n",
       "        <td style=\"padding-left: 1em; padding-right: 1em; text-align: center; vertical-align: top\">{'58':<br>0.017813270911574364, ...</td>\n",
       "    </tr>\n",
       "    <tr>\n",
       "        <td style=\"padding-left: 1em; padding-right: 1em; text-align: center; vertical-align: top\">2</td>\n",
       "        <td style=\"padding-left: 1em; padding-right: 1em; text-align: center; vertical-align: top\">{'23':<br>0.0766739659011364, ' ...</td>\n",
       "    </tr>\n",
       "    <tr>\n",
       "        <td style=\"padding-left: 1em; padding-right: 1em; text-align: center; vertical-align: top\">3</td>\n",
       "        <td style=\"padding-left: 1em; padding-right: 1em; text-align: center; vertical-align: top\">{'1':<br>0.33526166528463364, ...</td>\n",
       "    </tr>\n",
       "    <tr>\n",
       "        <td style=\"padding-left: 1em; padding-right: 1em; text-align: center; vertical-align: top\">4</td>\n",
       "        <td style=\"padding-left: 1em; padding-right: 1em; text-align: center; vertical-align: top\">{'91':<br>0.07791242934763432, ...</td>\n",
       "    </tr>\n",
       "    <tr>\n",
       "        <td style=\"padding-left: 1em; padding-right: 1em; text-align: center; vertical-align: top\">5</td>\n",
       "        <td style=\"padding-left: 1em; padding-right: 1em; text-align: center; vertical-align: top\">{'39':<br>0.06655545718967915, ...</td>\n",
       "    </tr>\n",
       "    <tr>\n",
       "        <td style=\"padding-left: 1em; padding-right: 1em; text-align: center; vertical-align: top\">6</td>\n",
       "        <td style=\"padding-left: 1em; padding-right: 1em; text-align: center; vertical-align: top\">{'39':<br>0.024916259571909904, ...</td>\n",
       "    </tr>\n",
       "    <tr>\n",
       "        <td style=\"padding-left: 1em; padding-right: 1em; text-align: center; vertical-align: top\">7</td>\n",
       "        <td style=\"padding-left: 1em; padding-right: 1em; text-align: center; vertical-align: top\">{'39':<br>0.021381346508860588, ...</td>\n",
       "    </tr>\n",
       "    <tr>\n",
       "        <td style=\"padding-left: 1em; padding-right: 1em; text-align: center; vertical-align: top\">8</td>\n",
       "        <td style=\"padding-left: 1em; padding-right: 1em; text-align: center; vertical-align: top\">{'24':<br>0.3784366548061371, ' ...</td>\n",
       "    </tr>\n",
       "    <tr>\n",
       "        <td style=\"padding-left: 1em; padding-right: 1em; text-align: center; vertical-align: top\">9</td>\n",
       "        <td style=\"padding-left: 1em; padding-right: 1em; text-align: center; vertical-align: top\">{'39':<br>0.01657235436141491, ...</td>\n",
       "    </tr>\n",
       "</table>\n",
       "[10 rows x 2 columns]<br/>\n",
       "</div>"
      ],
      "text/plain": [
       "Columns:\n",
       "\tid\tint\n",
       "\tclass_prob\tdict\n",
       "\n",
       "Rows: 10\n",
       "\n",
       "Data:\n",
       "+----+-------------------------------+\n",
       "| id |           class_prob          |\n",
       "+----+-------------------------------+\n",
       "| 0  | {'58': 0.02753406949341297... |\n",
       "| 1  | {'58': 0.01781327091157436... |\n",
       "| 2  | {'23': 0.0766739659011364,... |\n",
       "| 3  | {'1': 0.33526166528463364,... |\n",
       "| 4  | {'91': 0.07791242934763432... |\n",
       "| 5  | {'39': 0.06655545718967915... |\n",
       "| 6  | {'39': 0.02491625957190990... |\n",
       "| 7  | {'39': 0.02138134650886058... |\n",
       "| 8  | {'24': 0.3784366548061371,... |\n",
       "| 9  | {'39': 0.01657235436141491... |\n",
       "+----+-------------------------------+\n",
       "[10 rows x 2 columns]"
      ]
     },
     "execution_count": 192,
     "metadata": {},
     "output_type": "execute_result"
    }
   ],
   "source": [
    "data1_4.head()"
   ]
  },
  {
   "cell_type": "code",
   "execution_count": 189,
   "metadata": {
    "collapsed": false
   },
   "outputs": [],
   "source": [
    "data1_4 = data1_4.sort('id')"
   ]
  },
  {
   "cell_type": "code",
   "execution_count": 193,
   "metadata": {
    "collapsed": true
   },
   "outputs": [],
   "source": [
    "def pickTop5(predictions):\n",
    "    predictions = predictions['class_prob']\n",
    "    top5 = sorted(predictions.items(),key=operator.itemgetter(1),reverse=True)[:5]\n",
    "    return map(lambda x: x[0],top5)\n",
    "    "
   ]
  },
  {
   "cell_type": "code",
   "execution_count": 194,
   "metadata": {
    "collapsed": false,
    "scrolled": true
   },
   "outputs": [],
   "source": [
    "top5 = np.array(data1_4.apply(pickTop5))"
   ]
  },
  {
   "cell_type": "code",
   "execution_count": 223,
   "metadata": {
    "collapsed": true
   },
   "outputs": [],
   "source": [
    "def savePred2(pred_array):\n",
    "    df = pd.DataFrame(columns=['hotel_cluster'],index=np.arange(pred_array.shape[0]))\n",
    "    df['hotel_cluster'] = map(lambda x: ' '.join(x),pred_array)\n",
    "    df.to_csv('submission_2.csv',index=True,index_label='id')"
   ]
  },
  {
   "cell_type": "code",
   "execution_count": 226,
   "metadata": {
    "collapsed": false
   },
   "outputs": [],
   "source": [
    "savePred2(top5)"
   ]
  }
 ],
 "metadata": {
  "kernelspec": {
   "display_name": "Python 2",
   "language": "python",
   "name": "python2"
  },
  "language_info": {
   "codemirror_mode": {
    "name": "ipython",
    "version": 2
   },
   "file_extension": ".py",
   "mimetype": "text/x-python",
   "name": "python",
   "nbconvert_exporter": "python",
   "pygments_lexer": "ipython2",
   "version": "2.7.11"
  }
 },
 "nbformat": 4,
 "nbformat_minor": 0
}
